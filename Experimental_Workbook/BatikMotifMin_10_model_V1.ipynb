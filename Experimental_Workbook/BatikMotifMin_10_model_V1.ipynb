{
  "nbformat": 4,
  "nbformat_minor": 0,
  "metadata": {
    "colab": {
      "provenance": [],
      "gpuType": "T4"
    },
    "kernelspec": {
      "name": "python3",
      "display_name": "Python 3"
    },
    "language_info": {
      "name": "python"
    },
    "accelerator": "GPU"
  },
  "cells": [
    {
      "cell_type": "code",
      "source": [
        "!pip install EfficientNet"
      ],
      "metadata": {
        "colab": {
          "base_uri": "https://localhost:8080/"
        },
        "id": "TOQ1BM5CY5wt",
        "outputId": "373e15e1-2a21-48bf-e397-39345aa1c3c2"
      },
      "execution_count": 3,
      "outputs": [
        {
          "output_type": "stream",
          "name": "stdout",
          "text": [
            "Collecting EfficientNet\n",
            "  Downloading efficientnet-1.1.1-py3-none-any.whl (18 kB)\n",
            "Collecting keras-applications<=1.0.8,>=1.0.7 (from EfficientNet)\n",
            "  Downloading Keras_Applications-1.0.8-py3-none-any.whl (50 kB)\n",
            "\u001b[2K     \u001b[90m━━━━━━━━━━━━━━━━━━━━━━━━━━━━━━━━━━━━━━━━\u001b[0m \u001b[32m50.7/50.7 kB\u001b[0m \u001b[31m2.4 MB/s\u001b[0m eta \u001b[36m0:00:00\u001b[0m\n",
            "\u001b[?25hRequirement already satisfied: scikit-image in /usr/local/lib/python3.10/dist-packages (from EfficientNet) (0.19.3)\n",
            "Requirement already satisfied: numpy>=1.9.1 in /usr/local/lib/python3.10/dist-packages (from keras-applications<=1.0.8,>=1.0.7->EfficientNet) (1.25.2)\n",
            "Requirement already satisfied: h5py in /usr/local/lib/python3.10/dist-packages (from keras-applications<=1.0.8,>=1.0.7->EfficientNet) (3.9.0)\n",
            "Requirement already satisfied: scipy>=1.4.1 in /usr/local/lib/python3.10/dist-packages (from scikit-image->EfficientNet) (1.11.4)\n",
            "Requirement already satisfied: networkx>=2.2 in /usr/local/lib/python3.10/dist-packages (from scikit-image->EfficientNet) (3.3)\n",
            "Requirement already satisfied: pillow!=7.1.0,!=7.1.1,!=8.3.0,>=6.1.0 in /usr/local/lib/python3.10/dist-packages (from scikit-image->EfficientNet) (9.4.0)\n",
            "Requirement already satisfied: imageio>=2.4.1 in /usr/local/lib/python3.10/dist-packages (from scikit-image->EfficientNet) (2.31.6)\n",
            "Requirement already satisfied: tifffile>=2019.7.26 in /usr/local/lib/python3.10/dist-packages (from scikit-image->EfficientNet) (2024.5.22)\n",
            "Requirement already satisfied: PyWavelets>=1.1.1 in /usr/local/lib/python3.10/dist-packages (from scikit-image->EfficientNet) (1.6.0)\n",
            "Requirement already satisfied: packaging>=20.0 in /usr/local/lib/python3.10/dist-packages (from scikit-image->EfficientNet) (24.0)\n",
            "Installing collected packages: keras-applications, EfficientNet\n",
            "Successfully installed EfficientNet-1.1.1 keras-applications-1.0.8\n"
          ]
        }
      ]
    },
    {
      "cell_type": "code",
      "execution_count": null,
      "metadata": {
        "id": "KM8CJbbXYaWo"
      },
      "outputs": [],
      "source": [
        "import os\n",
        "import numpy as np\n",
        "import pandas as pd\n",
        "import matplotlib.pyplot as plt\n",
        "import seaborn as sns\n",
        "from keras.preprocessing.image import ImageDataGenerator\n",
        "import tensorflow as tf\n",
        "from efficientnet.tfkeras import EfficientNetB3\n",
        "from tensorflow.keras.applications.vgg16 import VGG16\n",
        "from tensorflow.keras import layers\n",
        "from tensorflow.keras import Model\n",
        "from tensorflow.keras.optimizers import Adam\n",
        "from tensorflow.keras.callbacks import ModelCheckpoint\n",
        "from keras.applications import ResNet50\n",
        "from keras.applications import MobileNetV2\n",
        "from keras.applications import NASNetMobile\n",
        "from keras.applications import VGG19\n",
        "from keras.applications import EfficientNetV2S\n",
        "from sklearn.metrics import classification_report\n",
        "from tensorflow.keras.models import load_model\n"
      ]
    },
    {
      "cell_type": "markdown",
      "source": [
        "#Load Dataset"
      ],
      "metadata": {
        "id": "pnYpwXF3ZFKe"
      }
    },
    {
      "cell_type": "code",
      "source": [
        "batikTrain = \"/content/drive/MyDrive/DATASETmin/DATASETmin/TRAIN\"\n",
        "batikVal = \"/content/drive/MyDrive/DATASETmin/DATASETmin/TEST\""
      ],
      "metadata": {
        "id": "JzIv_4llY3zW"
      },
      "execution_count": null,
      "outputs": []
    },
    {
      "cell_type": "markdown",
      "source": [
        "# EDA"
      ],
      "metadata": {
        "id": "jBq_1YTnaUWz"
      }
    },
    {
      "cell_type": "markdown",
      "source": [
        "## Checking Format & total images in all directory"
      ],
      "metadata": {
        "id": "DxuNnu7oaYxy"
      }
    },
    {
      "cell_type": "code",
      "source": [
        "import imghdr\n",
        "\n",
        "def count_images_and_formats(directory):\n",
        "    formats = {}\n",
        "    for root, dirs, files in os.walk(directory):\n",
        "        for file in files:\n",
        "            file_path = os.path.join(root, file)\n",
        "            file_extension = os.path.splitext(file)[1].lower()\n",
        "            if file_extension in formats:\n",
        "                formats[file_extension] += 1\n",
        "            else:\n",
        "                formats[file_extension] = 1\n",
        "    total_images = sum(formats.values())\n",
        "    return total_images, formats\n",
        "\n",
        "# Count the number of images and their formats\n",
        "train_image_count, train_formats = count_images_and_formats(batikTrain)\n",
        "val_image_count, val_formats = count_images_and_formats(batikVal)\n",
        "\n",
        "# Display the total number of images and their formats\n",
        "print(\"Total number of training images: \", train_image_count)\n",
        "print(\"Training image formats: \", train_formats)\n",
        "print(\"Total number of testing images: \", val_image_count)\n",
        "print(\"Testing image formats: \", val_formats)"
      ],
      "metadata": {
        "colab": {
          "base_uri": "https://localhost:8080/"
        },
        "id": "XaGqD-DtaKiu",
        "outputId": "ee7baf1f-f3e0-4877-f895-fdce19694412"
      },
      "execution_count": null,
      "outputs": [
        {
          "output_type": "stream",
          "name": "stdout",
          "text": [
            "Total number of training images:  700\n",
            "Training image formats:  {'.jpg': 700}\n",
            "Total number of testing images:  200\n",
            "Testing image formats:  {'.jpg': 200}\n"
          ]
        }
      ]
    },
    {
      "cell_type": "markdown",
      "source": [
        "## Distribution of images in Training and validation sets"
      ],
      "metadata": {
        "id": "zdD4bZFWafnQ"
      }
    },
    {
      "cell_type": "code",
      "source": [
        "import matplotlib.pyplot as plt\n",
        "\n",
        "# Total number of images in training and validation sets\n",
        "total_train_images = train_image_count\n",
        "total_val_images = val_image_count\n",
        "\n",
        "# Calculate percentages\n",
        "train_percent = (total_train_images / (total_train_images + total_val_images)) * 100\n",
        "val_percent = (total_val_images / (total_train_images + total_val_images)) * 100\n",
        "\n",
        "# Plotting\n",
        "labels = ['Training', 'Validation']\n",
        "sizes = [train_percent, val_percent]\n",
        "colors = ['skyblue', 'salmon']\n",
        "explode = (0.1, 0)\n",
        "\n",
        "plt.figure(figsize=(8, 6))\n",
        "plt.pie(sizes, explode=explode, labels=labels, colors=colors, autopct='%1.1f%%', shadow=True, startangle=140)\n",
        "plt.title('Distribution of Images in Training and Validation Sets')\n",
        "plt.axis('equal')  # Equal aspect ratio ensures that pie is drawn as a circle.\n",
        "\n",
        "plt.show()"
      ],
      "metadata": {
        "colab": {
          "base_uri": "https://localhost:8080/",
          "height": 524
        },
        "id": "WrnYx6xPaNOO",
        "outputId": "c0b23dd8-d198-4d4e-8439-86e9d6aa93e8"
      },
      "execution_count": null,
      "outputs": [
        {
          "output_type": "display_data",
          "data": {
            "text/plain": [
              "<Figure size 800x600 with 1 Axes>"
            ],
            "image/png": "[encoded data removed]"
          },
          "metadata": {}
        }
      ]
    },
    {
      "cell_type": "markdown",
      "source": [
        "## Total number of images in Validation Class"
      ],
      "metadata": {
        "id": "nbo6DE27apa_"
      }
    },
    {
      "cell_type": "code",
      "source": [
        "def count_images_in_each_class(directory):\n",
        "    class_counts = {}\n",
        "    for class_name in os.listdir(directory):\n",
        "        class_path = os.path.join(directory, class_name)\n",
        "        if os.path.isdir(class_path):\n",
        "            class_counts[class_name] = len([file for file in os.listdir(class_path) if file.endswith(('.jpg', '.jpeg', '.png'))])\n",
        "    return class_counts\n",
        "\n",
        "# Directory to be analyzed\n",
        "directory = batikVal\n",
        "\n",
        "# Count the number of images in each class\n",
        "class_counts = count_images_in_each_class(directory)\n",
        "\n",
        "# Display the number of images in each class\n",
        "print('List Of All Class :')\n",
        "for class_name, count in class_counts.items():\n",
        "    print('===================')\n",
        "    print(f\"'{class_name}': {count}\")"
      ],
      "metadata": {
        "colab": {
          "base_uri": "https://localhost:8080/"
        },
        "id": "McwscfF1anFi",
        "outputId": "bd24fee6-2393-424c-b98c-c93f338eb484"
      },
      "execution_count": null,
      "outputs": [
        {
          "output_type": "stream",
          "name": "stdout",
          "text": [
            "List Of All Class :\n",
            "===================\n",
            "'Batik Sekar Jagad': 20\n",
            "===================\n",
            "'Batik Tambal': 20\n",
            "===================\n",
            "'Batik Insang': 20\n",
            "===================\n",
            "'Batik Ikat Celup': 20\n",
            "===================\n",
            "'Batik Parang': 20\n",
            "===================\n",
            "'Batik Megamendung': 20\n",
            "===================\n",
            "'Batik Poleng': 20\n",
            "===================\n",
            "'Batik Kawung': 20\n",
            "===================\n",
            "'Batik Cendrawasih': 20\n",
            "===================\n",
            "'Batik Dayak': 20\n"
          ]
        }
      ]
    },
    {
      "cell_type": "markdown",
      "source": [
        "## Total Images In Training Class"
      ],
      "metadata": {
        "id": "THF--DmzaurV"
      }
    },
    {
      "cell_type": "code",
      "source": [
        "def count_images_in_each_class(directory):\n",
        "    class_counts = {}\n",
        "    for class_name in os.listdir(directory):\n",
        "        class_path = os.path.join(directory, class_name)\n",
        "        if os.path.isdir(class_path):\n",
        "            class_counts[class_name] = len([file for file in os.listdir(class_path) if file.endswith(('.jpg', '.jpeg', '.png'))])\n",
        "    return class_counts\n",
        "\n",
        "# Directory to be analyzed\n",
        "directory = batikTrain\n",
        "\n",
        "# Count the number of images in each class\n",
        "class_counts = count_images_in_each_class(directory)\n",
        "\n",
        "# Display the number of images in each class\n",
        "print('List Of All Class :')\n",
        "for class_name, count in class_counts.items():\n",
        "    print('===================')\n",
        "    print(f\"'{class_name}': {count}\")"
      ],
      "metadata": {
        "colab": {
          "base_uri": "https://localhost:8080/"
        },
        "id": "dRm_UMsnbCAW",
        "outputId": "b37e65fe-df1b-4fb6-ffeb-13f1c624cd95"
      },
      "execution_count": null,
      "outputs": [
        {
          "output_type": "stream",
          "name": "stdout",
          "text": [
            "List Of All Class :\n",
            "===================\n",
            "'Batik Tambal': 70\n",
            "===================\n",
            "'Batik Sekar Jagad': 70\n",
            "===================\n",
            "'Batik Megamendung': 70\n",
            "===================\n",
            "'Batik Parang': 70\n",
            "===================\n",
            "'Batik Poleng': 70\n",
            "===================\n",
            "'Batik Ikat Celup': 70\n",
            "===================\n",
            "'Batik Insang': 70\n",
            "===================\n",
            "'Batik Kawung': 70\n",
            "===================\n",
            "'Batik Cendrawasih': 70\n",
            "===================\n",
            "'Batik Dayak': 70\n"
          ]
        }
      ]
    },
    {
      "cell_type": "markdown",
      "source": [
        "# Data Augmentation"
      ],
      "metadata": {
        "id": "Z5nQqoKvbKjs"
      }
    },
    {
      "cell_type": "code",
      "source": [
        "train_datagen = ImageDataGenerator(\n",
        "    rescale=1./255,\n",
        "    rotation_range=0.30,\n",
        "    width_shift_range=0.2,\n",
        "    height_shift_range=0.2,\n",
        "    shear_range=0.2,\n",
        "    zoom_range=0.2,\n",
        "    horizontal_flip=False,\n",
        "    vertical_flip=False,\n",
        "    fill_mode='nearest',\n",
        "    brightness_range=[0.8, 1.2]\n",
        ")\n",
        "\n",
        "val_datagen = ImageDataGenerator(\n",
        "    rescale=1./255\n",
        ")\n",
        "\n",
        "#Train\n",
        "train_gen = train_datagen.flow_from_directory(\n",
        "                                            batikTrain,\n",
        "                                                    target_size=(300, 300),\n",
        "                                                    batch_size=32,\n",
        "                                                    shuffle=True,\n",
        "                                                    color_mode='rgb',\n",
        "                                                    class_mode='categorical',\n",
        "                                            )\n",
        "\n",
        "#Validation\n",
        "val_gen = val_datagen.flow_from_directory(\n",
        "                                            batikVal,\n",
        "                                                    target_size=(300,300),\n",
        "                                                    batch_size=32,\n",
        "                                                    shuffle=True,\n",
        "                                                    color_mode='rgb',\n",
        "                                                    class_mode='categorical',\n",
        "                                                )\n"
      ],
      "metadata": {
        "colab": {
          "base_uri": "https://localhost:8080/"
        },
        "id": "m6M8maHzbNlu",
        "outputId": "19f0e8c2-a76b-4515-e4a1-90103ae90c50"
      },
      "execution_count": null,
      "outputs": [
        {
          "output_type": "stream",
          "name": "stdout",
          "text": [
            "Found 700 images belonging to 10 classes.\n",
            "Found 200 images belonging to 10 classes.\n"
          ]
        }
      ]
    },
    {
      "cell_type": "code",
      "source": [
        "#Test\n",
        "test_gen = val_datagen.flow_from_directory(\n",
        "                                            batikVal,\n",
        "                                                    target_size=(224,224),\n",
        "                                                    batch_size=32,\n",
        "                                                    shuffle=True,\n",
        "                                                    color_mode='rgb',\n",
        "                                                    class_mode='categorical',\n",
        "                                                )\n"
      ],
      "metadata": {
        "colab": {
          "base_uri": "https://localhost:8080/"
        },
        "id": "_Ny_IzmMxhAs",
        "outputId": "46e98a38-4039-4934-89fd-3e6e964742f4"
      },
      "execution_count": null,
      "outputs": [
        {
          "output_type": "stream",
          "name": "stdout",
          "text": [
            "Found 200 images belonging to 10 classes.\n"
          ]
        }
      ]
    },
    {
      "cell_type": "markdown",
      "source": [
        "# CheckPointCallBack"
      ],
      "metadata": {
        "id": "ni_UyGS9bU-k"
      }
    },
    {
      "cell_type": "code",
      "source": [
        "checkpoint_callback = ModelCheckpoint(\n",
        "    filepath='BatikMotifMin_10_model_EfficientNetV2S_epoch_{epoch:02d}.h5',\n",
        "    save_weights_only=False,\n",
        "    save_freq='epoch',\n",
        "    verbose=1\n",
        ")"
      ],
      "metadata": {
        "id": "W1Nr2n6DbVn3"
      },
      "execution_count": null,
      "outputs": []
    },
    {
      "cell_type": "markdown",
      "source": [
        "# EfficientNetB3 model"
      ],
      "metadata": {
        "id": "saWvAsNrb2gq"
      }
    },
    {
      "cell_type": "code",
      "source": [
        "pre_train_EfficientNetB3 = EfficientNetB3(\n",
        "    input_shape=(300, 300, 3),\n",
        "    include_top=False,\n",
        "    weights=\"imagenet\",\n",
        "    pooling='avg',\n",
        ")"
      ],
      "metadata": {
        "colab": {
          "base_uri": "https://localhost:8080/"
        },
        "id": "12pJmZI8b33L",
        "outputId": "79524f82-6ae7-478a-b6d8-2beb8f7276cd"
      },
      "execution_count": null,
      "outputs": [
        {
          "output_type": "stream",
          "name": "stdout",
          "text": [
            "Downloading data from https://github.com/Callidior/keras-applications/releases/download/efficientnet/efficientnet-b3_weights_tf_dim_ordering_tf_kernels_autoaugment_notop.h5\n",
            "44107200/44107200 [==============================] - 1s 0us/step\n"
          ]
        }
      ]
    },
    {
      "cell_type": "code",
      "source": [
        "pre_train_EfficientNetB3.trainable = False"
      ],
      "metadata": {
        "id": "bPG48hefb6ql"
      },
      "execution_count": null,
      "outputs": []
    },
    {
      "cell_type": "code",
      "source": [
        "model_ENB3 = tf.keras.Sequential([\n",
        "    pre_train_EfficientNetB3,\n",
        "    tf.keras.layers.Dense(512, activation='relu'),\n",
        "    tf.keras.layers.Dropout(0.4),\n",
        "    tf.keras.layers.Dense(10, activation='softmax')\n",
        "])"
      ],
      "metadata": {
        "colab": {
          "base_uri": "https://localhost:8080/"
        },
        "id": "n2-q30l0b9oA",
        "outputId": "139d1b43-7856-465e-a49e-22dc464f4881"
      },
      "execution_count": null,
      "outputs": [
        {
          "output_type": "stream",
          "name": "stdout",
          "text": [
            "Building model with <keras.src.engine.functional.Functional object at 0x7d4771342140>\n"
          ]
        }
      ]
    },
    {
      "cell_type": "code",
      "source": [
        "model_ENB3.compile(optimizer=tf.keras.optimizers.Adam(learning_rate=0.0001),\n",
        "              loss='categorical_crossentropy',\n",
        "              metrics=['accuracy'])"
      ],
      "metadata": {
        "id": "Qa-tZfnFdWu_"
      },
      "execution_count": null,
      "outputs": []
    },
    {
      "cell_type": "code",
      "source": [
        "epoch = 60\n",
        "verb = 1\n",
        "\n",
        "history = model_ENB3.fit(\n",
        "            train_gen ,\n",
        "            validation_data = val_gen,\n",
        "            epochs = epoch,\n",
        "            verbose = verb,\n",
        "            callbacks=[checkpoint_callback])"
      ],
      "metadata": {
        "colab": {
          "base_uri": "https://localhost:8080/"
        },
        "id": "VyuR_rtQdtfB",
        "outputId": "3e7836a3-aa32-46f0-ccd3-08a729999657"
      },
      "execution_count": null,
      "outputs": [
        {
          "output_type": "stream",
          "name": "stdout",
          "text": [
            "Epoch 1/60\n",
            "22/22 [==============================] - ETA: 0s - loss: 2.2528 - accuracy: 0.1671 \n",
            "Epoch 1: saving model to BatikMotifMin_10_EfficientNetB3_epoch_01.h5\n"
          ]
        },
        {
          "output_type": "stream",
          "name": "stderr",
          "text": [
            "/usr/local/lib/python3.10/dist-packages/keras/src/engine/training.py:3103: UserWarning: You are saving your model as an HDF5 file via `model.save()`. This file format is considered legacy. We recommend using instead the native Keras format, e.g. `model.save('my_model.keras')`.\n",
            "  saving_api.save_model(\n"
          ]
        },
        {
          "output_type": "stream",
          "name": "stdout",
          "text": [
            "\b\b\b\b\b\b\b\b\b\b\b\b\b\b\b\b\b\b\b\b\b\b\b\b\b\b\b\b\b\b\b\b\b\b\b\b\b\b\b\b\b\b\b\b\b\b\b\b\b\b\b\b\b\b\b\b\b\b\b\b\b\b\b\b\b\b\b\b\b\b\b\b\b\b\b\b\b\b\b\b\b\b\r22/22 [==============================] - 653s 30s/step - loss: 2.2528 - accuracy: 0.1671 - val_loss: 1.9991 - val_accuracy: 0.4200\n",
            "Epoch 2/60\n",
            "22/22 [==============================] - ETA: 0s - loss: 1.8835 - accuracy: 0.4086\n",
            "Epoch 2: saving model to BatikMotifMin_10_EfficientNetB3_epoch_02.h5\n",
            "22/22 [==============================] - 25s 1s/step - loss: 1.8835 - accuracy: 0.4086 - val_loss: 1.6835 - val_accuracy: 0.6000\n",
            "Epoch 3/60\n",
            "22/22 [==============================] - ETA: 0s - loss: 1.6054 - accuracy: 0.5614\n",
            "Epoch 3: saving model to BatikMotifMin_10_EfficientNetB3_epoch_03.h5\n",
            "22/22 [==============================] - 24s 1s/step - loss: 1.6054 - accuracy: 0.5614 - val_loss: 1.4347 - val_accuracy: 0.6500\n",
            "Epoch 4/60\n",
            "22/22 [==============================] - ETA: 0s - loss: 1.3566 - accuracy: 0.6229\n",
            "Epoch 4: saving model to BatikMotifMin_10_EfficientNetB3_epoch_04.h5\n",
            "22/22 [==============================] - 24s 1s/step - loss: 1.3566 - accuracy: 0.6229 - val_loss: 1.2512 - val_accuracy: 0.7150\n",
            "Epoch 5/60\n",
            "22/22 [==============================] - ETA: 0s - loss: 1.1767 - accuracy: 0.7157\n",
            "Epoch 5: saving model to BatikMotifMin_10_EfficientNetB3_epoch_05.h5\n",
            "22/22 [==============================] - 25s 1s/step - loss: 1.1767 - accuracy: 0.7157 - val_loss: 1.1003 - val_accuracy: 0.7500\n",
            "Epoch 6/60\n",
            "22/22 [==============================] - ETA: 0s - loss: 1.0666 - accuracy: 0.7257\n",
            "Epoch 6: saving model to BatikMotifMin_10_EfficientNetB3_epoch_06.h5\n",
            "22/22 [==============================] - 26s 1s/step - loss: 1.0666 - accuracy: 0.7257 - val_loss: 0.9878 - val_accuracy: 0.7550\n",
            "Epoch 7/60\n",
            "22/22 [==============================] - ETA: 0s - loss: 0.9169 - accuracy: 0.7686\n",
            "Epoch 7: saving model to BatikMotifMin_10_EfficientNetB3_epoch_07.h5\n",
            "22/22 [==============================] - 26s 1s/step - loss: 0.9169 - accuracy: 0.7686 - val_loss: 0.9062 - val_accuracy: 0.7850\n",
            "Epoch 8/60\n",
            "22/22 [==============================] - ETA: 0s - loss: 0.8605 - accuracy: 0.7829\n",
            "Epoch 8: saving model to BatikMotifMin_10_EfficientNetB3_epoch_08.h5\n",
            "22/22 [==============================] - 25s 1s/step - loss: 0.8605 - accuracy: 0.7829 - val_loss: 0.8536 - val_accuracy: 0.7850\n",
            "Epoch 9/60\n",
            "22/22 [==============================] - ETA: 0s - loss: 0.7760 - accuracy: 0.7971\n",
            "Epoch 9: saving model to BatikMotifMin_10_EfficientNetB3_epoch_09.h5\n",
            "22/22 [==============================] - 24s 1s/step - loss: 0.7760 - accuracy: 0.7971 - val_loss: 0.7916 - val_accuracy: 0.7950\n",
            "Epoch 10/60\n",
            "22/22 [==============================] - ETA: 0s - loss: 0.7416 - accuracy: 0.8071\n",
            "Epoch 10: saving model to BatikMotifMin_10_EfficientNetB3_epoch_10.h5\n",
            "22/22 [==============================] - 25s 1s/step - loss: 0.7416 - accuracy: 0.8071 - val_loss: 0.7545 - val_accuracy: 0.8150\n",
            "Epoch 11/60\n",
            "22/22 [==============================] - ETA: 0s - loss: 0.6809 - accuracy: 0.8300\n",
            "Epoch 11: saving model to BatikMotifMin_10_EfficientNetB3_epoch_11.h5\n",
            "22/22 [==============================] - 25s 1s/step - loss: 0.6809 - accuracy: 0.8300 - val_loss: 0.7278 - val_accuracy: 0.8000\n",
            "Epoch 12/60\n",
            "22/22 [==============================] - ETA: 0s - loss: 0.6718 - accuracy: 0.8157\n",
            "Epoch 12: saving model to BatikMotifMin_10_EfficientNetB3_epoch_12.h5\n",
            "22/22 [==============================] - 25s 1s/step - loss: 0.6718 - accuracy: 0.8157 - val_loss: 0.6883 - val_accuracy: 0.8250\n",
            "Epoch 13/60\n",
            "22/22 [==============================] - ETA: 0s - loss: 0.6158 - accuracy: 0.8471\n",
            "Epoch 13: saving model to BatikMotifMin_10_EfficientNetB3_epoch_13.h5\n",
            "22/22 [==============================] - 24s 1s/step - loss: 0.6158 - accuracy: 0.8471 - val_loss: 0.6641 - val_accuracy: 0.8300\n",
            "Epoch 14/60\n",
            "22/22 [==============================] - ETA: 0s - loss: 0.5901 - accuracy: 0.8243\n",
            "Epoch 14: saving model to BatikMotifMin_10_EfficientNetB3_epoch_14.h5\n",
            "22/22 [==============================] - 26s 1s/step - loss: 0.5901 - accuracy: 0.8243 - val_loss: 0.6376 - val_accuracy: 0.8250\n",
            "Epoch 15/60\n",
            "22/22 [==============================] - ETA: 0s - loss: 0.5741 - accuracy: 0.8371\n",
            "Epoch 15: saving model to BatikMotifMin_10_EfficientNetB3_epoch_15.h5\n",
            "22/22 [==============================] - 25s 1s/step - loss: 0.5741 - accuracy: 0.8371 - val_loss: 0.6278 - val_accuracy: 0.8250\n",
            "Epoch 16/60\n",
            "22/22 [==============================] - ETA: 0s - loss: 0.5266 - accuracy: 0.8600\n",
            "Epoch 16: saving model to BatikMotifMin_10_EfficientNetB3_epoch_16.h5\n",
            "22/22 [==============================] - 25s 1s/step - loss: 0.5266 - accuracy: 0.8600 - val_loss: 0.6048 - val_accuracy: 0.8350\n",
            "Epoch 17/60\n",
            "22/22 [==============================] - ETA: 0s - loss: 0.5158 - accuracy: 0.8486\n",
            "Epoch 17: saving model to BatikMotifMin_10_EfficientNetB3_epoch_17.h5\n",
            "22/22 [==============================] - 24s 1s/step - loss: 0.5158 - accuracy: 0.8486 - val_loss: 0.5934 - val_accuracy: 0.8300\n",
            "Epoch 18/60\n",
            "22/22 [==============================] - ETA: 0s - loss: 0.4631 - accuracy: 0.8643\n",
            "Epoch 18: saving model to BatikMotifMin_10_EfficientNetB3_epoch_18.h5\n",
            "22/22 [==============================] - 26s 1s/step - loss: 0.4631 - accuracy: 0.8643 - val_loss: 0.5830 - val_accuracy: 0.8300\n",
            "Epoch 19/60\n",
            "22/22 [==============================] - ETA: 0s - loss: 0.4261 - accuracy: 0.8814\n",
            "Epoch 19: saving model to BatikMotifMin_10_EfficientNetB3_epoch_19.h5\n",
            "22/22 [==============================] - 25s 1s/step - loss: 0.4261 - accuracy: 0.8814 - val_loss: 0.5628 - val_accuracy: 0.8400\n",
            "Epoch 20/60\n",
            "22/22 [==============================] - ETA: 0s - loss: 0.4747 - accuracy: 0.8600\n",
            "Epoch 20: saving model to BatikMotifMin_10_EfficientNetB3_epoch_20.h5\n",
            "22/22 [==============================] - 25s 1s/step - loss: 0.4747 - accuracy: 0.8600 - val_loss: 0.5553 - val_accuracy: 0.8450\n",
            "Epoch 21/60\n",
            "22/22 [==============================] - ETA: 0s - loss: 0.4638 - accuracy: 0.8671\n",
            "Epoch 21: saving model to BatikMotifMin_10_EfficientNetB3_epoch_21.h5\n",
            "22/22 [==============================] - 25s 1s/step - loss: 0.4638 - accuracy: 0.8671 - val_loss: 0.5486 - val_accuracy: 0.8500\n",
            "Epoch 22/60\n",
            "22/22 [==============================] - ETA: 0s - loss: 0.4498 - accuracy: 0.8614\n",
            "Epoch 22: saving model to BatikMotifMin_10_EfficientNetB3_epoch_22.h5\n",
            "22/22 [==============================] - 24s 1s/step - loss: 0.4498 - accuracy: 0.8614 - val_loss: 0.5420 - val_accuracy: 0.8350\n",
            "Epoch 23/60\n",
            "22/22 [==============================] - ETA: 0s - loss: 0.3780 - accuracy: 0.8971\n",
            "Epoch 23: saving model to BatikMotifMin_10_EfficientNetB3_epoch_23.h5\n",
            "22/22 [==============================] - 25s 1s/step - loss: 0.3780 - accuracy: 0.8971 - val_loss: 0.5295 - val_accuracy: 0.8450\n",
            "Epoch 24/60\n",
            "22/22 [==============================] - ETA: 0s - loss: 0.3951 - accuracy: 0.8843\n",
            "Epoch 24: saving model to BatikMotifMin_10_EfficientNetB3_epoch_24.h5\n",
            "22/22 [==============================] - 25s 1s/step - loss: 0.3951 - accuracy: 0.8843 - val_loss: 0.5278 - val_accuracy: 0.8500\n",
            "Epoch 25/60\n",
            "22/22 [==============================] - ETA: 0s - loss: 0.3683 - accuracy: 0.9057\n",
            "Epoch 25: saving model to BatikMotifMin_10_EfficientNetB3_epoch_25.h5\n",
            "22/22 [==============================] - 25s 1s/step - loss: 0.3683 - accuracy: 0.9057 - val_loss: 0.5196 - val_accuracy: 0.8350\n",
            "Epoch 26/60\n",
            "22/22 [==============================] - ETA: 0s - loss: 0.3700 - accuracy: 0.8886\n",
            "Epoch 26: saving model to BatikMotifMin_10_EfficientNetB3_epoch_26.h5\n",
            "22/22 [==============================] - 24s 1s/step - loss: 0.3700 - accuracy: 0.8886 - val_loss: 0.5060 - val_accuracy: 0.8550\n",
            "Epoch 27/60\n",
            "22/22 [==============================] - ETA: 0s - loss: 0.3462 - accuracy: 0.9186\n",
            "Epoch 27: saving model to BatikMotifMin_10_EfficientNetB3_epoch_27.h5\n",
            "22/22 [==============================] - 25s 1s/step - loss: 0.3462 - accuracy: 0.9186 - val_loss: 0.5056 - val_accuracy: 0.8550\n",
            "Epoch 28/60\n",
            "22/22 [==============================] - ETA: 0s - loss: 0.3544 - accuracy: 0.9014\n",
            "Epoch 28: saving model to BatikMotifMin_10_EfficientNetB3_epoch_28.h5\n",
            "22/22 [==============================] - 25s 1s/step - loss: 0.3544 - accuracy: 0.9014 - val_loss: 0.4991 - val_accuracy: 0.8450\n",
            "Epoch 29/60\n",
            "22/22 [==============================] - ETA: 0s - loss: 0.3317 - accuracy: 0.9129\n",
            "Epoch 29: saving model to BatikMotifMin_10_EfficientNetB3_epoch_29.h5\n",
            "22/22 [==============================] - 25s 1s/step - loss: 0.3317 - accuracy: 0.9129 - val_loss: 0.4989 - val_accuracy: 0.8500\n",
            "Epoch 30/60\n",
            "22/22 [==============================] - ETA: 0s - loss: 0.3326 - accuracy: 0.9086\n",
            "Epoch 30: saving model to BatikMotifMin_10_EfficientNetB3_epoch_30.h5\n",
            "22/22 [==============================] - 24s 1s/step - loss: 0.3326 - accuracy: 0.9086 - val_loss: 0.4872 - val_accuracy: 0.8600\n",
            "Epoch 31/60\n",
            "22/22 [==============================] - ETA: 0s - loss: 0.3339 - accuracy: 0.9257\n",
            "Epoch 31: saving model to BatikMotifMin_10_EfficientNetB3_epoch_31.h5\n",
            "22/22 [==============================] - 25s 1s/step - loss: 0.3339 - accuracy: 0.9257 - val_loss: 0.4949 - val_accuracy: 0.8450\n",
            "Epoch 32/60\n",
            "22/22 [==============================] - ETA: 0s - loss: 0.3050 - accuracy: 0.9314\n",
            "Epoch 32: saving model to BatikMotifMin_10_EfficientNetB3_epoch_32.h5\n",
            "22/22 [==============================] - 25s 1s/step - loss: 0.3050 - accuracy: 0.9314 - val_loss: 0.5051 - val_accuracy: 0.8500\n",
            "Epoch 33/60\n",
            "22/22 [==============================] - ETA: 0s - loss: 0.3007 - accuracy: 0.9271\n",
            "Epoch 33: saving model to BatikMotifMin_10_EfficientNetB3_epoch_33.h5\n",
            "22/22 [==============================] - 25s 1s/step - loss: 0.3007 - accuracy: 0.9271 - val_loss: 0.4853 - val_accuracy: 0.8650\n",
            "Epoch 34/60\n",
            "22/22 [==============================] - ETA: 0s - loss: 0.3064 - accuracy: 0.9143\n",
            "Epoch 34: saving model to BatikMotifMin_10_EfficientNetB3_epoch_34.h5\n",
            "22/22 [==============================] - 24s 1s/step - loss: 0.3064 - accuracy: 0.9143 - val_loss: 0.4786 - val_accuracy: 0.8600\n",
            "Epoch 35/60\n",
            "22/22 [==============================] - ETA: 0s - loss: 0.2814 - accuracy: 0.9214\n",
            "Epoch 35: saving model to BatikMotifMin_10_EfficientNetB3_epoch_35.h5\n",
            "22/22 [==============================] - 25s 1s/step - loss: 0.2814 - accuracy: 0.9214 - val_loss: 0.4620 - val_accuracy: 0.8650\n",
            "Epoch 36/60\n",
            "22/22 [==============================] - ETA: 0s - loss: 0.2922 - accuracy: 0.9171\n",
            "Epoch 36: saving model to BatikMotifMin_10_EfficientNetB3_epoch_36.h5\n",
            "22/22 [==============================] - 27s 1s/step - loss: 0.2922 - accuracy: 0.9171 - val_loss: 0.4625 - val_accuracy: 0.8600\n",
            "Epoch 37/60\n",
            "22/22 [==============================] - ETA: 0s - loss: 0.2680 - accuracy: 0.9343\n",
            "Epoch 37: saving model to BatikMotifMin_10_EfficientNetB3_epoch_37.h5\n",
            "22/22 [==============================] - 25s 1s/step - loss: 0.2680 - accuracy: 0.9343 - val_loss: 0.4581 - val_accuracy: 0.8600\n",
            "Epoch 38/60\n",
            "22/22 [==============================] - ETA: 0s - loss: 0.2987 - accuracy: 0.9229\n",
            "Epoch 38: saving model to BatikMotifMin_10_EfficientNetB3_epoch_38.h5\n",
            "22/22 [==============================] - 24s 1s/step - loss: 0.2987 - accuracy: 0.9229 - val_loss: 0.4660 - val_accuracy: 0.8650\n",
            "Epoch 39/60\n",
            "22/22 [==============================] - ETA: 0s - loss: 0.2635 - accuracy: 0.9343\n",
            "Epoch 39: saving model to BatikMotifMin_10_EfficientNetB3_epoch_39.h5\n",
            "22/22 [==============================] - 25s 1s/step - loss: 0.2635 - accuracy: 0.9343 - val_loss: 0.4586 - val_accuracy: 0.8650\n",
            "Epoch 40/60\n",
            "22/22 [==============================] - ETA: 0s - loss: 0.2797 - accuracy: 0.9257\n",
            "Epoch 40: saving model to BatikMotifMin_10_EfficientNetB3_epoch_40.h5\n",
            "22/22 [==============================] - 24s 1s/step - loss: 0.2797 - accuracy: 0.9257 - val_loss: 0.4703 - val_accuracy: 0.8550\n",
            "Epoch 41/60\n",
            "22/22 [==============================] - ETA: 0s - loss: 0.2746 - accuracy: 0.9257\n",
            "Epoch 41: saving model to BatikMotifMin_10_EfficientNetB3_epoch_41.h5\n",
            "22/22 [==============================] - 26s 1s/step - loss: 0.2746 - accuracy: 0.9257 - val_loss: 0.4556 - val_accuracy: 0.8650\n",
            "Epoch 42/60\n",
            "22/22 [==============================] - ETA: 0s - loss: 0.2530 - accuracy: 0.9371\n",
            "Epoch 42: saving model to BatikMotifMin_10_EfficientNetB3_epoch_42.h5\n",
            "22/22 [==============================] - 26s 1s/step - loss: 0.2530 - accuracy: 0.9371 - val_loss: 0.4540 - val_accuracy: 0.8650\n",
            "Epoch 43/60\n",
            "22/22 [==============================] - ETA: 0s - loss: 0.2566 - accuracy: 0.9300\n",
            "Epoch 43: saving model to BatikMotifMin_10_EfficientNetB3_epoch_43.h5\n",
            "22/22 [==============================] - 25s 1s/step - loss: 0.2566 - accuracy: 0.9300 - val_loss: 0.4541 - val_accuracy: 0.8650\n",
            "Epoch 44/60\n",
            "22/22 [==============================] - ETA: 0s - loss: 0.2262 - accuracy: 0.9514\n",
            "Epoch 44: saving model to BatikMotifMin_10_EfficientNetB3_epoch_44.h5\n",
            "22/22 [==============================] - 24s 1s/step - loss: 0.2262 - accuracy: 0.9514 - val_loss: 0.4537 - val_accuracy: 0.8600\n",
            "Epoch 45/60\n",
            "22/22 [==============================] - ETA: 0s - loss: 0.2425 - accuracy: 0.9314\n",
            "Epoch 45: saving model to BatikMotifMin_10_EfficientNetB3_epoch_45.h5\n",
            "22/22 [==============================] - 25s 1s/step - loss: 0.2425 - accuracy: 0.9314 - val_loss: 0.4503 - val_accuracy: 0.8600\n",
            "Epoch 46/60\n",
            "22/22 [==============================] - ETA: 0s - loss: 0.2365 - accuracy: 0.9400\n",
            "Epoch 46: saving model to BatikMotifMin_10_EfficientNetB3_epoch_46.h5\n",
            "22/22 [==============================] - 25s 1s/step - loss: 0.2365 - accuracy: 0.9400 - val_loss: 0.4446 - val_accuracy: 0.8600\n",
            "Epoch 47/60\n",
            "22/22 [==============================] - ETA: 0s - loss: 0.2288 - accuracy: 0.9457\n",
            "Epoch 47: saving model to BatikMotifMin_10_EfficientNetB3_epoch_47.h5\n",
            "22/22 [==============================] - 24s 1s/step - loss: 0.2288 - accuracy: 0.9457 - val_loss: 0.4449 - val_accuracy: 0.8700\n",
            "Epoch 48/60\n",
            "22/22 [==============================] - ETA: 0s - loss: 0.2252 - accuracy: 0.9329\n",
            "Epoch 48: saving model to BatikMotifMin_10_EfficientNetB3_epoch_48.h5\n",
            "22/22 [==============================] - 24s 1s/step - loss: 0.2252 - accuracy: 0.9329 - val_loss: 0.4398 - val_accuracy: 0.8700\n",
            "Epoch 49/60\n",
            "22/22 [==============================] - ETA: 0s - loss: 0.2319 - accuracy: 0.9343\n",
            "Epoch 49: saving model to BatikMotifMin_10_EfficientNetB3_epoch_49.h5\n",
            "22/22 [==============================] - 25s 1s/step - loss: 0.2319 - accuracy: 0.9343 - val_loss: 0.4429 - val_accuracy: 0.8700\n",
            "Epoch 50/60\n",
            "22/22 [==============================] - ETA: 0s - loss: 0.2150 - accuracy: 0.9529\n",
            "Epoch 50: saving model to BatikMotifMin_10_EfficientNetB3_epoch_50.h5\n",
            "22/22 [==============================] - 25s 1s/step - loss: 0.2150 - accuracy: 0.9529 - val_loss: 0.4384 - val_accuracy: 0.8650\n",
            "Epoch 51/60\n",
            "22/22 [==============================] - ETA: 0s - loss: 0.2261 - accuracy: 0.9386\n",
            "Epoch 51: saving model to BatikMotifMin_10_EfficientNetB3_epoch_51.h5\n",
            "22/22 [==============================] - 25s 1s/step - loss: 0.2261 - accuracy: 0.9386 - val_loss: 0.4376 - val_accuracy: 0.8650\n",
            "Epoch 52/60\n",
            "22/22 [==============================] - ETA: 0s - loss: 0.1861 - accuracy: 0.9500\n",
            "Epoch 52: saving model to BatikMotifMin_10_EfficientNetB3_epoch_52.h5\n",
            "22/22 [==============================] - 25s 1s/step - loss: 0.1861 - accuracy: 0.9500 - val_loss: 0.4201 - val_accuracy: 0.8800\n",
            "Epoch 53/60\n",
            "22/22 [==============================] - ETA: 0s - loss: 0.1858 - accuracy: 0.9514\n",
            "Epoch 53: saving model to BatikMotifMin_10_EfficientNetB3_epoch_53.h5\n",
            "22/22 [==============================] - 25s 1s/step - loss: 0.1858 - accuracy: 0.9514 - val_loss: 0.4353 - val_accuracy: 0.8800\n",
            "Epoch 54/60\n",
            "22/22 [==============================] - ETA: 0s - loss: 0.2040 - accuracy: 0.9471\n",
            "Epoch 54: saving model to BatikMotifMin_10_EfficientNetB3_epoch_54.h5\n",
            "22/22 [==============================] - 24s 1s/step - loss: 0.2040 - accuracy: 0.9471 - val_loss: 0.4351 - val_accuracy: 0.8800\n",
            "Epoch 55/60\n",
            "22/22 [==============================] - ETA: 0s - loss: 0.1949 - accuracy: 0.9529\n",
            "Epoch 55: saving model to BatikMotifMin_10_EfficientNetB3_epoch_55.h5\n",
            "22/22 [==============================] - 26s 1s/step - loss: 0.1949 - accuracy: 0.9529 - val_loss: 0.4373 - val_accuracy: 0.8650\n",
            "Epoch 56/60\n",
            "22/22 [==============================] - ETA: 0s - loss: 0.1876 - accuracy: 0.9457\n",
            "Epoch 56: saving model to BatikMotifMin_10_EfficientNetB3_epoch_56.h5\n",
            "22/22 [==============================] - 25s 1s/step - loss: 0.1876 - accuracy: 0.9457 - val_loss: 0.4277 - val_accuracy: 0.8650\n",
            "Epoch 57/60\n",
            "22/22 [==============================] - ETA: 0s - loss: 0.1738 - accuracy: 0.9571\n",
            "Epoch 57: saving model to BatikMotifMin_10_EfficientNetB3_epoch_57.h5\n",
            "22/22 [==============================] - 24s 1s/step - loss: 0.1738 - accuracy: 0.9571 - val_loss: 0.4314 - val_accuracy: 0.8700\n",
            "Epoch 58/60\n",
            "22/22 [==============================] - ETA: 0s - loss: 0.1956 - accuracy: 0.9443\n",
            "Epoch 58: saving model to BatikMotifMin_10_EfficientNetB3_epoch_58.h5\n",
            "22/22 [==============================] - 25s 1s/step - loss: 0.1956 - accuracy: 0.9443 - val_loss: 0.4321 - val_accuracy: 0.8800\n",
            "Epoch 59/60\n",
            "22/22 [==============================] - ETA: 0s - loss: 0.1696 - accuracy: 0.9643\n",
            "Epoch 59: saving model to BatikMotifMin_10_EfficientNetB3_epoch_59.h5\n",
            "22/22 [==============================] - 24s 1s/step - loss: 0.1696 - accuracy: 0.9643 - val_loss: 0.4314 - val_accuracy: 0.8750\n",
            "Epoch 60/60\n",
            "22/22 [==============================] - ETA: 0s - loss: 0.1970 - accuracy: 0.9443\n",
            "Epoch 60: saving model to BatikMotifMin_10_EfficientNetB3_epoch_60.h5\n",
            "22/22 [==============================] - 24s 1s/step - loss: 0.1970 - accuracy: 0.9443 - val_loss: 0.4382 - val_accuracy: 0.8700\n"
          ]
        }
      ]
    },
    {
      "cell_type": "code",
      "source": [
        "def plot_metrics(history):\n",
        "\n",
        "    plt.figure(figsize=(12, 6))\n",
        "\n",
        "\n",
        "    plt.subplot(1, 2, 1)\n",
        "    plt.plot(history.history['accuracy'], label='Train Accuracy')\n",
        "    plt.plot(history.history['val_accuracy'], label='Validation Accuracy')\n",
        "    plt.title('Model Accuracy')\n",
        "    plt.xlabel('Epoch')\n",
        "    plt.ylabel('Accuracy')\n",
        "    plt.legend()\n",
        "\n",
        "    plt.subplot(1, 2, 2)\n",
        "    plt.plot(history.history['loss'], label='Train Loss')\n",
        "    plt.plot(history.history['val_loss'], label='Validation Loss')\n",
        "    plt.title('Model Loss')\n",
        "    plt.xlabel('Epoch')\n",
        "    plt.ylabel('Loss')\n",
        "    plt.legend()\n",
        "\n",
        "\n",
        "    plt.show()\n",
        "\n",
        "\n",
        "plot_metrics(history)"
      ],
      "metadata": {
        "colab": {
          "base_uri": "https://localhost:8080/",
          "height": 564
        },
        "id": "hWnvMUwud4Fz",
        "outputId": "10057bf6-dc88-45bf-c671-e3a191d9754b"
      },
      "execution_count": null,
      "outputs": [
        {
          "output_type": "display_data",
          "data": {
            "text/plain": [
              "<Figure size 1200x600 with 2 Axes>"
            ],
            "image/png": "[encoded data removed]"
          },
          "metadata": {}
        }
      ]
    },
    {
      "cell_type": "markdown",
      "source": [
        "## Classification Report Model"
      ],
      "metadata": {
        "id": "FQtl-CIP2lVY"
      }
    },
    {
      "cell_type": "code",
      "source": [
        "class_names = list(val_gen.class_indices.keys())\n",
        "\n",
        "y_test = []\n",
        "y_pred = []\n",
        "\n",
        "for i in range(len(val_gen)):\n",
        "    x_batch, y_batch = val_gen.next()\n",
        "\n",
        "    for j in range(len(y_batch)):\n",
        "\n",
        "        y_test.append(class_names[tf.argmax(y_batch[j]).numpy()])\n",
        "\n",
        "        prediction = model_ENB3.predict(x_batch[j][None, ...], verbose=0)\n",
        "        y_pred.append(class_names[np.argmax(prediction)])\n",
        "\n",
        "\n",
        "print(classification_report(y_test, y_pred, target_names=class_names))"
      ],
      "metadata": {
        "colab": {
          "base_uri": "https://localhost:8080/"
        },
        "id": "id7-lFWYno6e",
        "outputId": "a2d4139e-e217-4947-f0bd-c2c3eb5f8472"
      },
      "execution_count": null,
      "outputs": [
        {
          "output_type": "stream",
          "name": "stdout",
          "text": [
            "                   precision    recall  f1-score   support\n",
            "\n",
            "Batik Cendrawasih       0.80      0.80      0.80        20\n",
            "      Batik Dayak       0.69      0.90      0.78        20\n",
            " Batik Ikat Celup       1.00      0.85      0.92        20\n",
            "     Batik Insang       0.86      0.95      0.90        20\n",
            "     Batik Kawung       0.88      0.75      0.81        20\n",
            "Batik Megamendung       1.00      0.85      0.92        20\n",
            "     Batik Parang       1.00      0.95      0.97        20\n",
            "     Batik Poleng       0.84      0.80      0.82        20\n",
            "Batik Sekar Jagad       0.83      0.95      0.88        20\n",
            "     Batik Tambal       0.90      0.90      0.90        20\n",
            "\n",
            "         accuracy                           0.87       200\n",
            "        macro avg       0.88      0.87      0.87       200\n",
            "     weighted avg       0.88      0.87      0.87       200\n",
            "\n"
          ]
        }
      ]
    },
    {
      "cell_type": "markdown",
      "source": [
        "## Best Classification EfficientNet B3"
      ],
      "metadata": {
        "id": "nGYasMVs2qO7"
      }
    },
    {
      "cell_type": "code",
      "source": [
        "model_ENB3_BEST = load_model('/content/BatikMotifMin_10_EfficientNetB3_epoch_54.h5')"
      ],
      "metadata": {
        "id": "YPmbjqz52pkL"
      },
      "execution_count": null,
      "outputs": []
    },
    {
      "cell_type": "code",
      "source": [
        "class_names = list(val_gen.class_indices.keys())\n",
        "\n",
        "y_test = []\n",
        "y_pred = []\n",
        "model_names = model_ENB3_BEST\n",
        "for i in range(len(val_gen)):\n",
        "    x_batch, y_batch = val_gen.next()\n",
        "\n",
        "    for j in range(len(y_batch)):\n",
        "\n",
        "        y_test.append(class_names[tf.argmax(y_batch[j]).numpy()])\n",
        "\n",
        "        prediction = model_names.predict(x_batch[j][None, ...], verbose=0)\n",
        "        y_pred.append(class_names[np.argmax(prediction)])\n",
        "\n",
        "\n",
        "print(classification_report(y_test, y_pred, target_names=class_names))"
      ],
      "metadata": {
        "colab": {
          "base_uri": "https://localhost:8080/"
        },
        "id": "fj6Bz3WJ2DJ8",
        "outputId": "f86794d1-3a56-4292-9891-2d2148ab0c79"
      },
      "execution_count": null,
      "outputs": [
        {
          "output_type": "stream",
          "name": "stdout",
          "text": [
            "                   precision    recall  f1-score   support\n",
            "\n",
            "Batik Cendrawasih       0.80      0.80      0.80        20\n",
            "      Batik Dayak       0.69      0.90      0.78        20\n",
            " Batik Ikat Celup       0.95      0.90      0.92        20\n",
            "     Batik Insang       0.95      0.90      0.92        20\n",
            "     Batik Kawung       0.89      0.80      0.84        20\n",
            "Batik Megamendung       1.00      0.85      0.92        20\n",
            "     Batik Parang       1.00      0.95      0.97        20\n",
            "     Batik Poleng       0.85      0.85      0.85        20\n",
            "Batik Sekar Jagad       0.83      0.95      0.88        20\n",
            "     Batik Tambal       0.95      0.90      0.92        20\n",
            "\n",
            "         accuracy                           0.88       200\n",
            "        macro avg       0.89      0.88      0.88       200\n",
            "     weighted avg       0.89      0.88      0.88       200\n",
            "\n"
          ]
        }
      ]
    },
    {
      "cell_type": "markdown",
      "source": [
        "# MobileNet2 model"
      ],
      "metadata": {
        "id": "7eaEfppD54q3"
      }
    },
    {
      "cell_type": "code",
      "source": [
        "pre_train_MobileNetV2 = MobileNetV2(\n",
        "    input_shape=(224, 224, 3),\n",
        "    include_top=False,\n",
        "    weights=\"imagenet\",\n",
        "    pooling='avg',\n",
        ")"
      ],
      "metadata": {
        "id": "a3cokOU88RiN"
      },
      "execution_count": null,
      "outputs": []
    },
    {
      "cell_type": "code",
      "source": [
        "pre_train_MobileNetV2.trainable = False"
      ],
      "metadata": {
        "id": "Ii7lmud2KwCL"
      },
      "execution_count": null,
      "outputs": []
    },
    {
      "cell_type": "code",
      "source": [
        "model_MNETV2 = tf.keras.Sequential([\n",
        "    pre_train_MobileNetV2,\n",
        "    tf.keras.layers.Dense(512, activation='relu'),\n",
        "    tf.keras.layers.BatchNormalization(),\n",
        "    tf.keras.layers.Dropout(0.4),\n",
        "    tf.keras.layers.Dense(10, activation='softmax')\n",
        "])\n"
      ],
      "metadata": {
        "id": "gEtmYbrsDuK_"
      },
      "execution_count": null,
      "outputs": []
    },
    {
      "cell_type": "code",
      "source": [
        "model_MNETV2.compile(optimizer=tf.keras.optimizers.Adam(learning_rate=0.0001),\n",
        "              loss='categorical_crossentropy',\n",
        "              metrics=['accuracy'])"
      ],
      "metadata": {
        "id": "hEBlhiyaFiVg"
      },
      "execution_count": null,
      "outputs": []
    },
    {
      "cell_type": "code",
      "source": [
        "epoch = 60\n",
        "verb = 1\n",
        "\n",
        "history_MNETV2 = model_MNETV2.fit(\n",
        "            train_gen,\n",
        "            validation_data = val_gen,\n",
        "            epochs = epoch,\n",
        "            verbose = verb,\n",
        "            callbacks=[checkpoint_callback])"
      ],
      "metadata": {
        "colab": {
          "base_uri": "https://localhost:8080/"
        },
        "id": "pRCpWsndFrZB",
        "outputId": "85c7e949-359c-4058-a288-3c7dc76f7e6d"
      },
      "execution_count": null,
      "outputs": [
        {
          "output_type": "stream",
          "name": "stdout",
          "text": [
            "Epoch 1/60\n",
            "22/22 [==============================] - ETA: 0s - loss: 2.8478 - accuracy: 0.2000 \n",
            "Epoch 1: saving model to BatikMotifMin_10_model_MNETV2_epoch_01.h5\n"
          ]
        },
        {
          "output_type": "stream",
          "name": "stderr",
          "text": [
            "/usr/local/lib/python3.10/dist-packages/keras/src/engine/training.py:3103: UserWarning: You are saving your model as an HDF5 file via `model.save()`. This file format is considered legacy. We recommend using instead the native Keras format, e.g. `model.save('my_model.keras')`.\n",
            "  saving_api.save_model(\n"
          ]
        },
        {
          "output_type": "stream",
          "name": "stdout",
          "text": [
            "\b\b\b\b\b\b\b\b\b\b\b\b\b\b\b\b\b\b\b\b\b\b\b\b\b\b\b\b\b\b\b\b\b\b\b\b\b\b\b\b\b\b\b\b\b\b\b\b\b\b\b\b\b\b\b\b\b\b\b\b\b\b\b\b\b\b\b\b\b\b\b\b\b\b\b\b\b\b\b\b\b\b\r22/22 [==============================] - 486s 22s/step - loss: 2.8478 - accuracy: 0.2000 - val_loss: 1.8399 - val_accuracy: 0.3800\n",
            "Epoch 2/60\n",
            "22/22 [==============================] - ETA: 0s - loss: 1.7257 - accuracy: 0.4400\n",
            "Epoch 2: saving model to BatikMotifMin_10_model_MNETV2_epoch_02.h5\n",
            "22/22 [==============================] - 118s 5s/step - loss: 1.7257 - accuracy: 0.4400 - val_loss: 1.3843 - val_accuracy: 0.5850\n",
            "Epoch 3/60\n",
            "22/22 [==============================] - ETA: 0s - loss: 1.2315 - accuracy: 0.5871\n",
            "Epoch 3: saving model to BatikMotifMin_10_model_MNETV2_epoch_03.h5\n",
            "22/22 [==============================] - 96s 4s/step - loss: 1.2315 - accuracy: 0.5871 - val_loss: 1.1176 - val_accuracy: 0.6850\n",
            "Epoch 4/60\n",
            "22/22 [==============================] - ETA: 0s - loss: 0.9470 - accuracy: 0.6971\n",
            "Epoch 4: saving model to BatikMotifMin_10_model_MNETV2_epoch_04.h5\n",
            "22/22 [==============================] - 92s 4s/step - loss: 0.9470 - accuracy: 0.6971 - val_loss: 0.9470 - val_accuracy: 0.7200\n",
            "Epoch 5/60\n",
            "22/22 [==============================] - ETA: 0s - loss: 0.8134 - accuracy: 0.7114\n",
            "Epoch 5: saving model to BatikMotifMin_10_model_MNETV2_epoch_05.h5\n",
            "22/22 [==============================] - 91s 4s/step - loss: 0.8134 - accuracy: 0.7114 - val_loss: 0.8255 - val_accuracy: 0.7600\n",
            "Epoch 6/60\n",
            "22/22 [==============================] - ETA: 0s - loss: 0.7231 - accuracy: 0.7657\n",
            "Epoch 6: saving model to BatikMotifMin_10_model_MNETV2_epoch_06.h5\n",
            "22/22 [==============================] - 93s 4s/step - loss: 0.7231 - accuracy: 0.7657 - val_loss: 0.7368 - val_accuracy: 0.7750\n",
            "Epoch 7/60\n",
            "22/22 [==============================] - ETA: 0s - loss: 0.5783 - accuracy: 0.8186\n",
            "Epoch 7: saving model to BatikMotifMin_10_model_MNETV2_epoch_07.h5\n",
            "22/22 [==============================] - 92s 4s/step - loss: 0.5783 - accuracy: 0.8186 - val_loss: 0.6773 - val_accuracy: 0.7950\n",
            "Epoch 8/60\n",
            "22/22 [==============================] - ETA: 0s - loss: 0.5666 - accuracy: 0.8086\n",
            "Epoch 8: saving model to BatikMotifMin_10_model_MNETV2_epoch_08.h5\n",
            "22/22 [==============================] - 95s 4s/step - loss: 0.5666 - accuracy: 0.8086 - val_loss: 0.6290 - val_accuracy: 0.7900\n",
            "Epoch 9/60\n",
            "22/22 [==============================] - ETA: 0s - loss: 0.4977 - accuracy: 0.8229\n",
            "Epoch 9: saving model to BatikMotifMin_10_model_MNETV2_epoch_09.h5\n",
            "22/22 [==============================] - 101s 5s/step - loss: 0.4977 - accuracy: 0.8229 - val_loss: 0.5882 - val_accuracy: 0.8000\n",
            "Epoch 10/60\n",
            "22/22 [==============================] - ETA: 0s - loss: 0.4634 - accuracy: 0.8571\n",
            "Epoch 10: saving model to BatikMotifMin_10_model_MNETV2_epoch_10.h5\n",
            "22/22 [==============================] - 95s 4s/step - loss: 0.4634 - accuracy: 0.8571 - val_loss: 0.5577 - val_accuracy: 0.8200\n",
            "Epoch 11/60\n",
            "22/22 [==============================] - ETA: 0s - loss: 0.3859 - accuracy: 0.8714\n",
            "Epoch 11: saving model to BatikMotifMin_10_model_MNETV2_epoch_11.h5\n",
            "22/22 [==============================] - 92s 4s/step - loss: 0.3859 - accuracy: 0.8714 - val_loss: 0.5389 - val_accuracy: 0.8250\n",
            "Epoch 12/60\n",
            "22/22 [==============================] - ETA: 0s - loss: 0.3666 - accuracy: 0.8743\n",
            "Epoch 12: saving model to BatikMotifMin_10_model_MNETV2_epoch_12.h5\n",
            "22/22 [==============================] - 96s 4s/step - loss: 0.3666 - accuracy: 0.8743 - val_loss: 0.5359 - val_accuracy: 0.8200\n",
            "Epoch 13/60\n",
            "22/22 [==============================] - ETA: 0s - loss: 0.3763 - accuracy: 0.8786\n",
            "Epoch 13: saving model to BatikMotifMin_10_model_MNETV2_epoch_13.h5\n",
            "22/22 [==============================] - 96s 4s/step - loss: 0.3763 - accuracy: 0.8786 - val_loss: 0.5321 - val_accuracy: 0.8150\n",
            "Epoch 14/60\n",
            "22/22 [==============================] - ETA: 0s - loss: 0.3268 - accuracy: 0.8943\n",
            "Epoch 14: saving model to BatikMotifMin_10_model_MNETV2_epoch_14.h5\n",
            "22/22 [==============================] - 95s 4s/step - loss: 0.3268 - accuracy: 0.8943 - val_loss: 0.5247 - val_accuracy: 0.8200\n",
            "Epoch 15/60\n",
            "22/22 [==============================] - ETA: 0s - loss: 0.2977 - accuracy: 0.9186\n",
            "Epoch 15: saving model to BatikMotifMin_10_model_MNETV2_epoch_15.h5\n",
            "22/22 [==============================] - 100s 5s/step - loss: 0.2977 - accuracy: 0.9186 - val_loss: 0.5213 - val_accuracy: 0.8300\n",
            "Epoch 16/60\n",
            "22/22 [==============================] - ETA: 0s - loss: 0.2553 - accuracy: 0.9257\n",
            "Epoch 16: saving model to BatikMotifMin_10_model_MNETV2_epoch_16.h5\n",
            "22/22 [==============================] - 94s 4s/step - loss: 0.2553 - accuracy: 0.9257 - val_loss: 0.5201 - val_accuracy: 0.8350\n",
            "Epoch 17/60\n",
            "22/22 [==============================] - ETA: 0s - loss: 0.3011 - accuracy: 0.9029\n",
            "Epoch 17: saving model to BatikMotifMin_10_model_MNETV2_epoch_17.h5\n",
            "22/22 [==============================] - 93s 4s/step - loss: 0.3011 - accuracy: 0.9029 - val_loss: 0.5258 - val_accuracy: 0.8250\n",
            "Epoch 18/60\n",
            "22/22 [==============================] - ETA: 0s - loss: 0.2620 - accuracy: 0.9214\n",
            "Epoch 18: saving model to BatikMotifMin_10_model_MNETV2_epoch_18.h5\n",
            "22/22 [==============================] - 95s 4s/step - loss: 0.2620 - accuracy: 0.9214 - val_loss: 0.5183 - val_accuracy: 0.8300\n",
            "Epoch 19/60\n",
            "22/22 [==============================] - ETA: 0s - loss: 0.2368 - accuracy: 0.9271\n",
            "Epoch 19: saving model to BatikMotifMin_10_model_MNETV2_epoch_19.h5\n",
            "22/22 [==============================] - 91s 4s/step - loss: 0.2368 - accuracy: 0.9271 - val_loss: 0.5125 - val_accuracy: 0.8350\n",
            "Epoch 20/60\n",
            "22/22 [==============================] - ETA: 0s - loss: 0.2043 - accuracy: 0.9414\n",
            "Epoch 20: saving model to BatikMotifMin_10_model_MNETV2_epoch_20.h5\n",
            "22/22 [==============================] - 97s 4s/step - loss: 0.2043 - accuracy: 0.9414 - val_loss: 0.5120 - val_accuracy: 0.8300\n",
            "Epoch 21/60\n",
            "22/22 [==============================] - ETA: 0s - loss: 0.2399 - accuracy: 0.9143\n",
            "Epoch 21: saving model to BatikMotifMin_10_model_MNETV2_epoch_21.h5\n",
            "22/22 [==============================] - 102s 5s/step - loss: 0.2399 - accuracy: 0.9143 - val_loss: 0.5013 - val_accuracy: 0.8350\n",
            "Epoch 22/60\n",
            "22/22 [==============================] - ETA: 0s - loss: 0.1846 - accuracy: 0.9514\n",
            "Epoch 22: saving model to BatikMotifMin_10_model_MNETV2_epoch_22.h5\n",
            "22/22 [==============================] - 94s 4s/step - loss: 0.1846 - accuracy: 0.9514 - val_loss: 0.4977 - val_accuracy: 0.8350\n",
            "Epoch 23/60\n",
            "22/22 [==============================] - ETA: 0s - loss: 0.1828 - accuracy: 0.9500\n",
            "Epoch 23: saving model to BatikMotifMin_10_model_MNETV2_epoch_23.h5\n",
            "22/22 [==============================] - 90s 4s/step - loss: 0.1828 - accuracy: 0.9500 - val_loss: 0.4957 - val_accuracy: 0.8250\n",
            "Epoch 24/60\n",
            "22/22 [==============================] - ETA: 0s - loss: 0.1872 - accuracy: 0.9371\n",
            "Epoch 24: saving model to BatikMotifMin_10_model_MNETV2_epoch_24.h5\n",
            "22/22 [==============================] - 90s 4s/step - loss: 0.1872 - accuracy: 0.9371 - val_loss: 0.5004 - val_accuracy: 0.8250\n",
            "Epoch 25/60\n",
            "22/22 [==============================] - ETA: 0s - loss: 0.1755 - accuracy: 0.9543\n",
            "Epoch 25: saving model to BatikMotifMin_10_model_MNETV2_epoch_25.h5\n",
            "22/22 [==============================] - 97s 4s/step - loss: 0.1755 - accuracy: 0.9543 - val_loss: 0.5029 - val_accuracy: 0.8350\n",
            "Epoch 26/60\n",
            "22/22 [==============================] - ETA: 0s - loss: 0.1725 - accuracy: 0.9529\n",
            "Epoch 26: saving model to BatikMotifMin_10_model_MNETV2_epoch_26.h5\n",
            "22/22 [==============================] - 92s 4s/step - loss: 0.1725 - accuracy: 0.9529 - val_loss: 0.4963 - val_accuracy: 0.8400\n",
            "Epoch 27/60\n",
            "22/22 [==============================] - ETA: 0s - loss: 0.1509 - accuracy: 0.9529\n",
            "Epoch 27: saving model to BatikMotifMin_10_model_MNETV2_epoch_27.h5\n",
            "22/22 [==============================] - 100s 5s/step - loss: 0.1509 - accuracy: 0.9529 - val_loss: 0.4931 - val_accuracy: 0.8450\n",
            "Epoch 28/60\n",
            "22/22 [==============================] - ETA: 0s - loss: 0.1826 - accuracy: 0.9443\n",
            "Epoch 28: saving model to BatikMotifMin_10_model_MNETV2_epoch_28.h5\n",
            "22/22 [==============================] - 89s 4s/step - loss: 0.1826 - accuracy: 0.9443 - val_loss: 0.4795 - val_accuracy: 0.8350\n",
            "Epoch 29/60\n",
            "22/22 [==============================] - ETA: 0s - loss: 0.1848 - accuracy: 0.9443\n",
            "Epoch 29: saving model to BatikMotifMin_10_model_MNETV2_epoch_29.h5\n",
            "22/22 [==============================] - 92s 4s/step - loss: 0.1848 - accuracy: 0.9443 - val_loss: 0.4801 - val_accuracy: 0.8350\n",
            "Epoch 30/60\n",
            "22/22 [==============================] - ETA: 0s - loss: 0.1598 - accuracy: 0.9557\n",
            "Epoch 30: saving model to BatikMotifMin_10_model_MNETV2_epoch_30.h5\n",
            "22/22 [==============================] - 95s 4s/step - loss: 0.1598 - accuracy: 0.9557 - val_loss: 0.4744 - val_accuracy: 0.8450\n",
            "Epoch 31/60\n",
            "22/22 [==============================] - ETA: 0s - loss: 0.1321 - accuracy: 0.9643\n",
            "Epoch 31: saving model to BatikMotifMin_10_model_MNETV2_epoch_31.h5\n",
            "22/22 [==============================] - 91s 4s/step - loss: 0.1321 - accuracy: 0.9643 - val_loss: 0.4717 - val_accuracy: 0.8450\n",
            "Epoch 32/60\n",
            "22/22 [==============================] - ETA: 0s - loss: 0.1529 - accuracy: 0.9529\n",
            "Epoch 32: saving model to BatikMotifMin_10_model_MNETV2_epoch_32.h5\n",
            "22/22 [==============================] - 89s 4s/step - loss: 0.1529 - accuracy: 0.9529 - val_loss: 0.4690 - val_accuracy: 0.8400\n",
            "Epoch 33/60\n",
            "22/22 [==============================] - ETA: 0s - loss: 0.1341 - accuracy: 0.9643\n",
            "Epoch 33: saving model to BatikMotifMin_10_model_MNETV2_epoch_33.h5\n",
            "22/22 [==============================] - 99s 4s/step - loss: 0.1341 - accuracy: 0.9643 - val_loss: 0.4612 - val_accuracy: 0.8400\n",
            "Epoch 34/60\n",
            "22/22 [==============================] - ETA: 0s - loss: 0.1178 - accuracy: 0.9700\n",
            "Epoch 34: saving model to BatikMotifMin_10_model_MNETV2_epoch_34.h5\n",
            "22/22 [==============================] - 91s 4s/step - loss: 0.1178 - accuracy: 0.9700 - val_loss: 0.4651 - val_accuracy: 0.8400\n",
            "Epoch 35/60\n",
            "22/22 [==============================] - ETA: 0s - loss: 0.1040 - accuracy: 0.9743\n",
            "Epoch 35: saving model to BatikMotifMin_10_model_MNETV2_epoch_35.h5\n",
            "22/22 [==============================] - 92s 4s/step - loss: 0.1040 - accuracy: 0.9743 - val_loss: 0.4730 - val_accuracy: 0.8400\n",
            "Epoch 36/60\n",
            "22/22 [==============================] - ETA: 0s - loss: 0.1093 - accuracy: 0.9771\n",
            "Epoch 36: saving model to BatikMotifMin_10_model_MNETV2_epoch_36.h5\n",
            "22/22 [==============================] - 93s 4s/step - loss: 0.1093 - accuracy: 0.9771 - val_loss: 0.4774 - val_accuracy: 0.8450\n",
            "Epoch 37/60\n",
            "22/22 [==============================] - ETA: 0s - loss: 0.0963 - accuracy: 0.9743\n",
            "Epoch 37: saving model to BatikMotifMin_10_model_MNETV2_epoch_37.h5\n",
            "22/22 [==============================] - 92s 4s/step - loss: 0.0963 - accuracy: 0.9743 - val_loss: 0.4762 - val_accuracy: 0.8450\n",
            "Epoch 38/60\n",
            "22/22 [==============================] - ETA: 0s - loss: 0.1059 - accuracy: 0.9757\n",
            "Epoch 38: saving model to BatikMotifMin_10_model_MNETV2_epoch_38.h5\n",
            "22/22 [==============================] - 94s 4s/step - loss: 0.1059 - accuracy: 0.9757 - val_loss: 0.4697 - val_accuracy: 0.8550\n",
            "Epoch 39/60\n",
            "22/22 [==============================] - ETA: 0s - loss: 0.0839 - accuracy: 0.9800\n",
            "Epoch 39: saving model to BatikMotifMin_10_model_MNETV2_epoch_39.h5\n",
            "22/22 [==============================] - 90s 4s/step - loss: 0.0839 - accuracy: 0.9800 - val_loss: 0.4640 - val_accuracy: 0.8550\n",
            "Epoch 40/60\n",
            "22/22 [==============================] - ETA: 0s - loss: 0.1172 - accuracy: 0.9700\n",
            "Epoch 40: saving model to BatikMotifMin_10_model_MNETV2_epoch_40.h5\n",
            "22/22 [==============================] - 90s 4s/step - loss: 0.1172 - accuracy: 0.9700 - val_loss: 0.4591 - val_accuracy: 0.8600\n",
            "Epoch 41/60\n",
            "22/22 [==============================] - ETA: 0s - loss: 0.0903 - accuracy: 0.9800\n",
            "Epoch 41: saving model to BatikMotifMin_10_model_MNETV2_epoch_41.h5\n",
            "22/22 [==============================] - 92s 4s/step - loss: 0.0903 - accuracy: 0.9800 - val_loss: 0.4625 - val_accuracy: 0.8500\n",
            "Epoch 42/60\n",
            "22/22 [==============================] - ETA: 0s - loss: 0.0752 - accuracy: 0.9800\n",
            "Epoch 42: saving model to BatikMotifMin_10_model_MNETV2_epoch_42.h5\n",
            "22/22 [==============================] - 94s 4s/step - loss: 0.0752 - accuracy: 0.9800 - val_loss: 0.4649 - val_accuracy: 0.8550\n",
            "Epoch 43/60\n",
            "22/22 [==============================] - ETA: 0s - loss: 0.0781 - accuracy: 0.9871\n",
            "Epoch 43: saving model to BatikMotifMin_10_model_MNETV2_epoch_43.h5\n",
            "22/22 [==============================] - 89s 4s/step - loss: 0.0781 - accuracy: 0.9871 - val_loss: 0.4681 - val_accuracy: 0.8550\n",
            "Epoch 44/60\n",
            "22/22 [==============================] - ETA: 0s - loss: 0.0798 - accuracy: 0.9857\n",
            "Epoch 44: saving model to BatikMotifMin_10_model_MNETV2_epoch_44.h5\n",
            "22/22 [==============================] - 88s 4s/step - loss: 0.0798 - accuracy: 0.9857 - val_loss: 0.4704 - val_accuracy: 0.8600\n",
            "Epoch 45/60\n",
            "22/22 [==============================] - ETA: 0s - loss: 0.0716 - accuracy: 0.9857\n",
            "Epoch 45: saving model to BatikMotifMin_10_model_MNETV2_epoch_45.h5\n",
            "22/22 [==============================] - 91s 4s/step - loss: 0.0716 - accuracy: 0.9857 - val_loss: 0.4722 - val_accuracy: 0.8600\n",
            "Epoch 46/60\n",
            "22/22 [==============================] - ETA: 0s - loss: 0.0753 - accuracy: 0.9829\n",
            "Epoch 46: saving model to BatikMotifMin_10_model_MNETV2_epoch_46.h5\n",
            "22/22 [==============================] - 94s 4s/step - loss: 0.0753 - accuracy: 0.9829 - val_loss: 0.4701 - val_accuracy: 0.8600\n",
            "Epoch 47/60\n",
            "22/22 [==============================] - ETA: 0s - loss: 0.0730 - accuracy: 0.9843\n",
            "Epoch 47: saving model to BatikMotifMin_10_model_MNETV2_epoch_47.h5\n",
            "22/22 [==============================] - 92s 4s/step - loss: 0.0730 - accuracy: 0.9843 - val_loss: 0.4731 - val_accuracy: 0.8550\n",
            "Epoch 48/60\n",
            "22/22 [==============================] - ETA: 0s - loss: 0.0715 - accuracy: 0.9857\n",
            "Epoch 48: saving model to BatikMotifMin_10_model_MNETV2_epoch_48.h5\n",
            "22/22 [==============================] - 89s 4s/step - loss: 0.0715 - accuracy: 0.9857 - val_loss: 0.4707 - val_accuracy: 0.8600\n",
            "Epoch 49/60\n",
            "22/22 [==============================] - ETA: 0s - loss: 0.0618 - accuracy: 0.9843\n",
            "Epoch 49: saving model to BatikMotifMin_10_model_MNETV2_epoch_49.h5\n",
            "22/22 [==============================] - 96s 4s/step - loss: 0.0618 - accuracy: 0.9843 - val_loss: 0.4742 - val_accuracy: 0.8450\n",
            "Epoch 50/60\n",
            "22/22 [==============================] - ETA: 0s - loss: 0.0690 - accuracy: 0.9871\n",
            "Epoch 50: saving model to BatikMotifMin_10_model_MNETV2_epoch_50.h5\n",
            "22/22 [==============================] - 91s 4s/step - loss: 0.0690 - accuracy: 0.9871 - val_loss: 0.4727 - val_accuracy: 0.8500\n",
            "Epoch 51/60\n",
            "22/22 [==============================] - ETA: 0s - loss: 0.0643 - accuracy: 0.9829\n",
            "Epoch 51: saving model to BatikMotifMin_10_model_MNETV2_epoch_51.h5\n",
            "22/22 [==============================] - 94s 4s/step - loss: 0.0643 - accuracy: 0.9829 - val_loss: 0.4627 - val_accuracy: 0.8650\n",
            "Epoch 52/60\n",
            "22/22 [==============================] - ETA: 0s - loss: 0.0659 - accuracy: 0.9886\n",
            "Epoch 52: saving model to BatikMotifMin_10_model_MNETV2_epoch_52.h5\n",
            "22/22 [==============================] - 94s 4s/step - loss: 0.0659 - accuracy: 0.9886 - val_loss: 0.4616 - val_accuracy: 0.8650\n",
            "Epoch 53/60\n",
            "22/22 [==============================] - ETA: 0s - loss: 0.0681 - accuracy: 0.9886\n",
            "Epoch 53: saving model to BatikMotifMin_10_model_MNETV2_epoch_53.h5\n",
            "22/22 [==============================] - 95s 4s/step - loss: 0.0681 - accuracy: 0.9886 - val_loss: 0.4600 - val_accuracy: 0.8600\n",
            "Epoch 54/60\n",
            "22/22 [==============================] - ETA: 0s - loss: 0.0489 - accuracy: 0.9914\n",
            "Epoch 54: saving model to BatikMotifMin_10_model_MNETV2_epoch_54.h5\n",
            "22/22 [==============================] - 90s 4s/step - loss: 0.0489 - accuracy: 0.9914 - val_loss: 0.4593 - val_accuracy: 0.8600\n",
            "Epoch 55/60\n",
            "22/22 [==============================] - ETA: 0s - loss: 0.0600 - accuracy: 0.9914\n",
            "Epoch 55: saving model to BatikMotifMin_10_model_MNETV2_epoch_55.h5\n",
            "22/22 [==============================] - 90s 4s/step - loss: 0.0600 - accuracy: 0.9914 - val_loss: 0.4601 - val_accuracy: 0.8700\n",
            "Epoch 56/60\n",
            "22/22 [==============================] - ETA: 0s - loss: 0.0795 - accuracy: 0.9714\n",
            "Epoch 56: saving model to BatikMotifMin_10_model_MNETV2_epoch_56.h5\n",
            "22/22 [==============================] - 93s 4s/step - loss: 0.0795 - accuracy: 0.9714 - val_loss: 0.4639 - val_accuracy: 0.8550\n",
            "Epoch 57/60\n",
            "22/22 [==============================] - ETA: 0s - loss: 0.0604 - accuracy: 0.9843\n",
            "Epoch 57: saving model to BatikMotifMin_10_model_MNETV2_epoch_57.h5\n",
            "22/22 [==============================] - 98s 4s/step - loss: 0.0604 - accuracy: 0.9843 - val_loss: 0.4696 - val_accuracy: 0.8550\n",
            "Epoch 58/60\n",
            "22/22 [==============================] - ETA: 0s - loss: 0.0632 - accuracy: 0.9857\n",
            "Epoch 58: saving model to BatikMotifMin_10_model_MNETV2_epoch_58.h5\n",
            "22/22 [==============================] - 91s 4s/step - loss: 0.0632 - accuracy: 0.9857 - val_loss: 0.4704 - val_accuracy: 0.8450\n",
            "Epoch 59/60\n",
            "22/22 [==============================] - ETA: 0s - loss: 0.0643 - accuracy: 0.9843\n",
            "Epoch 59: saving model to BatikMotifMin_10_model_MNETV2_epoch_59.h5\n",
            "22/22 [==============================] - 96s 4s/step - loss: 0.0643 - accuracy: 0.9843 - val_loss: 0.4684 - val_accuracy: 0.8550\n",
            "Epoch 60/60\n",
            "22/22 [==============================] - ETA: 0s - loss: 0.0677 - accuracy: 0.9800\n",
            "Epoch 60: saving model to BatikMotifMin_10_model_MNETV2_epoch_60.h5\n",
            "22/22 [==============================] - 92s 4s/step - loss: 0.0677 - accuracy: 0.9800 - val_loss: 0.4682 - val_accuracy: 0.8500\n"
          ]
        }
      ]
    },
    {
      "cell_type": "code",
      "source": [
        "def plot_metrics(history_MNETV2):\n",
        "\n",
        "    plt.figure(figsize=(12, 6))\n",
        "\n",
        "\n",
        "    plt.subplot(1, 2, 1)\n",
        "    plt.plot(history_MNETV2.history['accuracy'], label='Train Accuracy')\n",
        "    plt.plot(history_MNETV2.history['val_accuracy'], label='Validation Accuracy')\n",
        "    plt.title('Model Accuracy')\n",
        "    plt.xlabel('Epoch')\n",
        "    plt.ylabel('Accuracy')\n",
        "    plt.legend()\n",
        "\n",
        "    plt.subplot(1, 2, 2)\n",
        "    plt.plot(history_MNETV2.history['loss'], label='Train Loss')\n",
        "    plt.plot(history_MNETV2.history['val_loss'], label='Validation Loss')\n",
        "    plt.title('Model Loss')\n",
        "    plt.xlabel('Epoch')\n",
        "    plt.ylabel('Loss')\n",
        "    plt.legend()\n",
        "\n",
        "\n",
        "    plt.show()\n",
        "\n",
        "\n",
        "plot_metrics(history_MNETV2)"
      ],
      "metadata": {
        "colab": {
          "base_uri": "https://localhost:8080/",
          "height": 467
        },
        "id": "aUg-UHF7vLeM",
        "outputId": "53d54203-2a76-4554-fad7-f6175b4a0d54"
      },
      "execution_count": null,
      "outputs": [
        {
          "output_type": "stream",
          "name": "stderr",
          "text": [
            "Exception ignored in: <function _xla_gc_callback at 0x7d478dcacf70>\n",
            "Traceback (most recent call last):\n",
            "  File \"/usr/local/lib/python3.10/dist-packages/jax/_src/lib/__init__.py\", line 98, in _xla_gc_callback\n",
            "    def _xla_gc_callback(*args):\n",
            "KeyboardInterrupt: \n"
          ]
        },
        {
          "output_type": "display_data",
          "data": {
            "text/plain": [
              "<Figure size 1200x600 with 2 Axes>"
            ],
            "image/png": "[encoded data removed]"
          },
          "metadata": {}
        }
      ]
    },
    {
      "cell_type": "markdown",
      "source": [
        "## Classification Report MobilenetV2"
      ],
      "metadata": {
        "id": "U-VdQRa20UF9"
      }
    },
    {
      "cell_type": "code",
      "source": [
        "class_names = list(val_gen.class_indices.keys())\n",
        "\n",
        "y_test = []\n",
        "y_pred = []\n",
        "model_names = model_MNETV2\n",
        "for i in range(len(test_gen)):\n",
        "    x_batch, y_batch = test_gen.next()\n",
        "\n",
        "    for j in range(len(y_batch)):\n",
        "\n",
        "        y_test.append(class_names[tf.argmax(y_batch[j]).numpy()])\n",
        "\n",
        "        prediction = model_names.predict(x_batch[j][None, ...], verbose=0)\n",
        "        y_pred.append(class_names[np.argmax(prediction)])\n",
        "\n",
        "\n",
        "print(classification_report(y_test, y_pred, target_names=class_names))"
      ],
      "metadata": {
        "colab": {
          "base_uri": "https://localhost:8080/"
        },
        "id": "DeXS03ApwX39",
        "outputId": "f0ff2487-7eaa-4464-ee2c-022896ed2e32"
      },
      "execution_count": null,
      "outputs": [
        {
          "output_type": "stream",
          "name": "stdout",
          "text": [
            "                   precision    recall  f1-score   support\n",
            "\n",
            "Batik Cendrawasih       0.88      0.75      0.81        20\n",
            "      Batik Dayak       0.75      0.75      0.75        20\n",
            " Batik Ikat Celup       0.83      0.75      0.79        20\n",
            "     Batik Insang       0.90      0.95      0.93        20\n",
            "     Batik Kawung       0.72      0.90      0.80        20\n",
            "Batik Megamendung       1.00      0.90      0.95        20\n",
            "     Batik Parang       1.00      0.85      0.92        20\n",
            "     Batik Poleng       1.00      0.85      0.92        20\n",
            "Batik Sekar Jagad       0.80      0.80      0.80        20\n",
            "     Batik Tambal       0.63      0.85      0.72        20\n",
            "\n",
            "         accuracy                           0.83       200\n",
            "        macro avg       0.85      0.83      0.84       200\n",
            "     weighted avg       0.85      0.83      0.84       200\n",
            "\n"
          ]
        }
      ]
    },
    {
      "cell_type": "markdown",
      "source": [
        "## Classification Report Best Model MobilenetV2"
      ],
      "metadata": {
        "id": "0b3Lf22C1RM_"
      }
    },
    {
      "cell_type": "code",
      "source": [
        "model_MNETV2_BEST = load_model('/content/BatikMotifMin_10_model_MNETV2_epoch_55.h5')"
      ],
      "metadata": {
        "id": "4AvXnuGu1OoO"
      },
      "execution_count": null,
      "outputs": []
    },
    {
      "cell_type": "code",
      "source": [
        "class_names = list(val_gen.class_indices.keys())\n",
        "\n",
        "y_test = []\n",
        "y_pred = []\n",
        "model_names = model_MNETV2_BEST\n",
        "for i in range(len(test_gen)):\n",
        "    x_batch, y_batch = test_gen.next()\n",
        "\n",
        "    for j in range(len(y_batch)):\n",
        "\n",
        "        y_test.append(class_names[tf.argmax(y_batch[j]).numpy()])\n",
        "\n",
        "        prediction = model_names.predict(x_batch[j][None, ...], verbose=0)\n",
        "        y_pred.append(class_names[np.argmax(prediction)])\n",
        "\n",
        "\n",
        "print(classification_report(y_test, y_pred, target_names=class_names))"
      ],
      "metadata": {
        "colab": {
          "base_uri": "https://localhost:8080/"
        },
        "id": "KpTSr5ak1ek2",
        "outputId": "702fd0dc-6d38-44a1-f5f5-77bdb22c48f3"
      },
      "execution_count": null,
      "outputs": [
        {
          "output_type": "stream",
          "name": "stdout",
          "text": [
            "                   precision    recall  f1-score   support\n",
            "\n",
            "Batik Cendrawasih       0.83      0.75      0.79        20\n",
            "      Batik Dayak       0.71      0.75      0.73        20\n",
            " Batik Ikat Celup       0.80      0.80      0.80        20\n",
            "     Batik Insang       0.90      0.90      0.90        20\n",
            "     Batik Kawung       0.72      0.90      0.80        20\n",
            "Batik Megamendung       1.00      0.90      0.95        20\n",
            "     Batik Parang       1.00      0.80      0.89        20\n",
            "     Batik Poleng       0.95      0.90      0.92        20\n",
            "Batik Sekar Jagad       0.80      0.80      0.80        20\n",
            "     Batik Tambal       0.70      0.80      0.74        20\n",
            "\n",
            "         accuracy                           0.83       200\n",
            "        macro avg       0.84      0.83      0.83       200\n",
            "     weighted avg       0.84      0.83      0.83       200\n",
            "\n"
          ]
        }
      ]
    },
    {
      "cell_type": "markdown",
      "source": [
        "# NASNetMobile model"
      ],
      "metadata": {
        "id": "DaTrn-jb39Av"
      }
    },
    {
      "cell_type": "code",
      "source": [
        "pre_train_NASNetMobile = NASNetMobile(\n",
        "    input_shape=(224, 224, 3),\n",
        "    include_top=False,\n",
        "    weights=\"imagenet\",\n",
        "    pooling='avg',\n",
        ")"
      ],
      "metadata": {
        "colab": {
          "base_uri": "https://localhost:8080/"
        },
        "id": "eDOYnzto39A2",
        "outputId": "622b0d3a-a0b9-4313-fcfc-637d33be577e"
      },
      "execution_count": null,
      "outputs": [
        {
          "output_type": "stream",
          "name": "stdout",
          "text": [
            "Downloading data from https://storage.googleapis.com/tensorflow/keras-applications/nasnet/NASNet-mobile-no-top.h5\n",
            "19993432/19993432 [==============================] - 1s 0us/step\n"
          ]
        }
      ]
    },
    {
      "cell_type": "code",
      "source": [
        "pre_train_NASNetMobile.trainable = False"
      ],
      "metadata": {
        "id": "I3wkliS139A2"
      },
      "execution_count": null,
      "outputs": []
    },
    {
      "cell_type": "code",
      "source": [
        "model_NASNetMobile = tf.keras.Sequential([\n",
        "    pre_train_NASNetMobile,\n",
        "    tf.keras.layers.Dense(512, activation='relu'),\n",
        "    tf.keras.layers.BatchNormalization(),\n",
        "    tf.keras.layers.Dropout(0.4),\n",
        "    tf.keras.layers.Dense(10, activation='softmax')\n",
        "])\n"
      ],
      "metadata": {
        "id": "7QSBbZ-139A2"
      },
      "execution_count": null,
      "outputs": []
    },
    {
      "cell_type": "code",
      "source": [
        "model_NASNetMobile.compile(optimizer=tf.keras.optimizers.Adam(learning_rate=0.0001),\n",
        "              loss='categorical_crossentropy',\n",
        "              metrics=['accuracy'])"
      ],
      "metadata": {
        "id": "Hq6EajSd39A2"
      },
      "execution_count": null,
      "outputs": []
    },
    {
      "cell_type": "code",
      "source": [
        "epoch = 90\n",
        "verb = 1\n",
        "\n",
        "history_NASNetMobile = model_NASNetMobile.fit(\n",
        "            train_gen,\n",
        "            validation_data = val_gen,\n",
        "            epochs = epoch,\n",
        "            verbose = verb,\n",
        "            callbacks=[checkpoint_callback])"
      ],
      "metadata": {
        "colab": {
          "base_uri": "https://localhost:8080/"
        },
        "outputId": "0af7ecf7-71d7-4fc3-9f32-2e6d2c183d6e",
        "id": "BwgHUmUD39A2"
      },
      "execution_count": null,
      "outputs": [
        {
          "metadata": {
            "tags": null
          },
          "name": "stdout",
          "output_type": "stream",
          "text": [
            "Epoch 1/60\n",
            "22/22 [==============================] - ETA: 0s - loss: 2.9219 - accuracy: 0.1886\n",
            "Epoch 1: saving model to BatikMotifMin_10_model_NASNetMobile_epoch_01.h5\n"
          ]
        },
        {
          "metadata": {
            "tags": null
          },
          "name": "stderr",
          "output_type": "stream",
          "text": [
            "/usr/local/lib/python3.10/dist-packages/keras/src/engine/training.py:3103: UserWarning: You are saving your model as an HDF5 file via `model.save()`. This file format is considered legacy. We recommend using instead the native Keras format, e.g. `model.save('my_model.keras')`.\n",
            "  saving_api.save_model(\n"
          ]
        },
        {
          "output_type": "stream",
          "name": "stdout",
          "text": [
            "22/22 [==============================] - 97s 4s/step - loss: 2.9219 - accuracy: 0.1886 - val_loss: 1.9722 - val_accuracy: 0.3300\n",
            "Epoch 2/60\n",
            "22/22 [==============================] - ETA: 0s - loss: 1.7587 - accuracy: 0.4214\n",
            "Epoch 2: saving model to BatikMotifMin_10_model_NASNetMobile_epoch_02.h5\n",
            "22/22 [==============================] - 93s 4s/step - loss: 1.7587 - accuracy: 0.4214 - val_loss: 1.5196 - val_accuracy: 0.5100\n",
            "Epoch 3/60\n",
            "22/22 [==============================] - ETA: 0s - loss: 1.1854 - accuracy: 0.5929\n",
            "Epoch 3: saving model to BatikMotifMin_10_model_NASNetMobile_epoch_03.h5\n",
            "22/22 [==============================] - 88s 4s/step - loss: 1.1854 - accuracy: 0.5929 - val_loss: 1.2111 - val_accuracy: 0.6600\n",
            "Epoch 4/60\n",
            "22/22 [==============================] - ETA: 0s - loss: 0.9696 - accuracy: 0.6771\n",
            "Epoch 4: saving model to BatikMotifMin_10_model_NASNetMobile_epoch_04.h5\n",
            "22/22 [==============================] - 92s 4s/step - loss: 0.9696 - accuracy: 0.6771 - val_loss: 1.0153 - val_accuracy: 0.7200\n",
            "Epoch 5/60\n",
            "22/22 [==============================] - ETA: 0s - loss: 0.7835 - accuracy: 0.7371\n",
            "Epoch 5: saving model to BatikMotifMin_10_model_NASNetMobile_epoch_05.h5\n",
            "22/22 [==============================] - 94s 4s/step - loss: 0.7835 - accuracy: 0.7371 - val_loss: 0.8827 - val_accuracy: 0.7700\n",
            "Epoch 6/60\n",
            "22/22 [==============================] - ETA: 0s - loss: 0.6817 - accuracy: 0.7743\n",
            "Epoch 6: saving model to BatikMotifMin_10_model_NASNetMobile_epoch_06.h5\n",
            "22/22 [==============================] - 95s 4s/step - loss: 0.6817 - accuracy: 0.7743 - val_loss: 0.7864 - val_accuracy: 0.7950\n",
            "Epoch 7/60\n",
            "22/22 [==============================] - ETA: 0s - loss: 0.6691 - accuracy: 0.7714\n",
            "Epoch 7: saving model to BatikMotifMin_10_model_NASNetMobile_epoch_07.h5\n",
            "22/22 [==============================] - 97s 4s/step - loss: 0.6691 - accuracy: 0.7714 - val_loss: 0.7159 - val_accuracy: 0.8050\n",
            "Epoch 8/60\n",
            "22/22 [==============================] - ETA: 0s - loss: 0.5658 - accuracy: 0.8114\n",
            "Epoch 8: saving model to BatikMotifMin_10_model_NASNetMobile_epoch_08.h5\n",
            "22/22 [==============================] - 96s 4s/step - loss: 0.5658 - accuracy: 0.8114 - val_loss: 0.6634 - val_accuracy: 0.8100\n",
            "Epoch 9/60\n",
            "22/22 [==============================] - ETA: 0s - loss: 0.5105 - accuracy: 0.8386\n",
            "Epoch 9: saving model to BatikMotifMin_10_model_NASNetMobile_epoch_09.h5\n",
            "22/22 [==============================] - 91s 4s/step - loss: 0.5105 - accuracy: 0.8386 - val_loss: 0.6314 - val_accuracy: 0.8250\n",
            "Epoch 10/60\n",
            "22/22 [==============================] - ETA: 0s - loss: 0.4630 - accuracy: 0.8571\n",
            "Epoch 10: saving model to BatikMotifMin_10_model_NASNetMobile_epoch_10.h5\n",
            "22/22 [==============================] - 95s 4s/step - loss: 0.4630 - accuracy: 0.8571 - val_loss: 0.6104 - val_accuracy: 0.8250\n",
            "Epoch 11/60\n",
            "22/22 [==============================] - ETA: 0s - loss: 0.4252 - accuracy: 0.8557\n",
            "Epoch 11: saving model to BatikMotifMin_10_model_NASNetMobile_epoch_11.h5\n",
            "22/22 [==============================] - 91s 4s/step - loss: 0.4252 - accuracy: 0.8557 - val_loss: 0.5939 - val_accuracy: 0.8200\n",
            "Epoch 12/60\n",
            "22/22 [==============================] - ETA: 0s - loss: 0.3892 - accuracy: 0.8786\n",
            "Epoch 12: saving model to BatikMotifMin_10_model_NASNetMobile_epoch_12.h5\n",
            "22/22 [==============================] - 98s 4s/step - loss: 0.3892 - accuracy: 0.8786 - val_loss: 0.5787 - val_accuracy: 0.8200\n",
            "Epoch 13/60\n",
            "22/22 [==============================] - ETA: 0s - loss: 0.3478 - accuracy: 0.8886\n",
            "Epoch 13: saving model to BatikMotifMin_10_model_NASNetMobile_epoch_13.h5\n",
            "22/22 [==============================] - 94s 4s/step - loss: 0.3478 - accuracy: 0.8886 - val_loss: 0.5601 - val_accuracy: 0.8150\n",
            "Epoch 14/60\n",
            "22/22 [==============================] - ETA: 0s - loss: 0.3575 - accuracy: 0.8943\n",
            "Epoch 14: saving model to BatikMotifMin_10_model_NASNetMobile_epoch_14.h5\n",
            "22/22 [==============================] - 94s 4s/step - loss: 0.3575 - accuracy: 0.8943 - val_loss: 0.5491 - val_accuracy: 0.8200\n",
            "Epoch 15/60\n",
            "22/22 [==============================] - ETA: 0s - loss: 0.3212 - accuracy: 0.8929\n",
            "Epoch 15: saving model to BatikMotifMin_10_model_NASNetMobile_epoch_15.h5\n",
            "22/22 [==============================] - 88s 4s/step - loss: 0.3212 - accuracy: 0.8929 - val_loss: 0.5356 - val_accuracy: 0.8200\n",
            "Epoch 16/60\n",
            "22/22 [==============================] - ETA: 0s - loss: 0.2905 - accuracy: 0.9029\n",
            "Epoch 16: saving model to BatikMotifMin_10_model_NASNetMobile_epoch_16.h5\n",
            "22/22 [==============================] - 90s 4s/step - loss: 0.2905 - accuracy: 0.9029 - val_loss: 0.5267 - val_accuracy: 0.8250\n",
            "Epoch 17/60\n",
            "22/22 [==============================] - ETA: 0s - loss: 0.2944 - accuracy: 0.9157\n",
            "Epoch 17: saving model to BatikMotifMin_10_model_NASNetMobile_epoch_17.h5\n",
            "22/22 [==============================] - 93s 4s/step - loss: 0.2944 - accuracy: 0.9157 - val_loss: 0.5159 - val_accuracy: 0.8250\n",
            "Epoch 18/60\n",
            "22/22 [==============================] - ETA: 0s - loss: 0.2627 - accuracy: 0.9229\n",
            "Epoch 18: saving model to BatikMotifMin_10_model_NASNetMobile_epoch_18.h5\n",
            "22/22 [==============================] - 99s 5s/step - loss: 0.2627 - accuracy: 0.9229 - val_loss: 0.5128 - val_accuracy: 0.8300\n",
            "Epoch 19/60\n",
            "22/22 [==============================] - ETA: 0s - loss: 0.2388 - accuracy: 0.9257\n",
            "Epoch 19: saving model to BatikMotifMin_10_model_NASNetMobile_epoch_19.h5\n",
            "22/22 [==============================] - 94s 4s/step - loss: 0.2388 - accuracy: 0.9257 - val_loss: 0.5094 - val_accuracy: 0.8450\n",
            "Epoch 20/60\n",
            "22/22 [==============================] - ETA: 0s - loss: 0.2233 - accuracy: 0.9457\n",
            "Epoch 20: saving model to BatikMotifMin_10_model_NASNetMobile_epoch_20.h5\n",
            "22/22 [==============================] - 88s 4s/step - loss: 0.2233 - accuracy: 0.9457 - val_loss: 0.5131 - val_accuracy: 0.8450\n",
            "Epoch 21/60\n",
            "22/22 [==============================] - ETA: 0s - loss: 0.2378 - accuracy: 0.9343\n",
            "Epoch 21: saving model to BatikMotifMin_10_model_NASNetMobile_epoch_21.h5\n",
            "22/22 [==============================] - 88s 4s/step - loss: 0.2378 - accuracy: 0.9343 - val_loss: 0.5168 - val_accuracy: 0.8450\n",
            "Epoch 22/60\n",
            "22/22 [==============================] - ETA: 0s - loss: 0.2209 - accuracy: 0.9371\n",
            "Epoch 22: saving model to BatikMotifMin_10_model_NASNetMobile_epoch_22.h5\n",
            "22/22 [==============================] - 90s 4s/step - loss: 0.2209 - accuracy: 0.9371 - val_loss: 0.5084 - val_accuracy: 0.8350\n",
            "Epoch 23/60\n",
            "22/22 [==============================] - ETA: 0s - loss: 0.1878 - accuracy: 0.9486\n",
            "Epoch 23: saving model to BatikMotifMin_10_model_NASNetMobile_epoch_23.h5\n",
            "22/22 [==============================] - 88s 4s/step - loss: 0.1878 - accuracy: 0.9486 - val_loss: 0.5002 - val_accuracy: 0.8350\n",
            "Epoch 24/60\n",
            "22/22 [==============================] - ETA: 0s - loss: 0.2085 - accuracy: 0.9471\n",
            "Epoch 24: saving model to BatikMotifMin_10_model_NASNetMobile_epoch_24.h5\n",
            "22/22 [==============================] - 95s 4s/step - loss: 0.2085 - accuracy: 0.9471 - val_loss: 0.4934 - val_accuracy: 0.8400\n",
            "Epoch 25/60\n",
            "22/22 [==============================] - ETA: 0s - loss: 0.1779 - accuracy: 0.9471\n",
            "Epoch 25: saving model to BatikMotifMin_10_model_NASNetMobile_epoch_25.h5\n",
            "22/22 [==============================] - 97s 4s/step - loss: 0.1779 - accuracy: 0.9471 - val_loss: 0.4910 - val_accuracy: 0.8450\n",
            "Epoch 26/60\n",
            "22/22 [==============================] - ETA: 0s - loss: 0.1691 - accuracy: 0.9557\n",
            "Epoch 26: saving model to BatikMotifMin_10_model_NASNetMobile_epoch_26.h5\n",
            "22/22 [==============================] - 90s 4s/step - loss: 0.1691 - accuracy: 0.9557 - val_loss: 0.4888 - val_accuracy: 0.8500\n",
            "Epoch 27/60\n",
            "22/22 [==============================] - ETA: 0s - loss: 0.1706 - accuracy: 0.9471\n",
            "Epoch 27: saving model to BatikMotifMin_10_model_NASNetMobile_epoch_27.h5\n",
            "22/22 [==============================] - 90s 4s/step - loss: 0.1706 - accuracy: 0.9471 - val_loss: 0.4984 - val_accuracy: 0.8500\n",
            "Epoch 28/60\n",
            "22/22 [==============================] - ETA: 0s - loss: 0.1399 - accuracy: 0.9600\n",
            "Epoch 28: saving model to BatikMotifMin_10_model_NASNetMobile_epoch_28.h5\n",
            "22/22 [==============================] - 89s 4s/step - loss: 0.1399 - accuracy: 0.9600 - val_loss: 0.4978 - val_accuracy: 0.8500\n",
            "Epoch 29/60\n",
            "22/22 [==============================] - ETA: 0s - loss: 0.1345 - accuracy: 0.9600\n",
            "Epoch 29: saving model to BatikMotifMin_10_model_NASNetMobile_epoch_29.h5\n",
            "22/22 [==============================] - 88s 4s/step - loss: 0.1345 - accuracy: 0.9600 - val_loss: 0.4982 - val_accuracy: 0.8500\n",
            "Epoch 30/60\n",
            "22/22 [==============================] - ETA: 0s - loss: 0.1702 - accuracy: 0.9500\n",
            "Epoch 30: saving model to BatikMotifMin_10_model_NASNetMobile_epoch_30.h5\n",
            "22/22 [==============================] - 98s 4s/step - loss: 0.1702 - accuracy: 0.9500 - val_loss: 0.5039 - val_accuracy: 0.8500\n",
            "Epoch 31/60\n",
            "22/22 [==============================] - ETA: 0s - loss: 0.1318 - accuracy: 0.9643\n",
            "Epoch 31: saving model to BatikMotifMin_10_model_NASNetMobile_epoch_31.h5\n",
            "22/22 [==============================] - 93s 4s/step - loss: 0.1318 - accuracy: 0.9643 - val_loss: 0.5038 - val_accuracy: 0.8400\n",
            "Epoch 32/60\n",
            "22/22 [==============================] - ETA: 0s - loss: 0.1120 - accuracy: 0.9700\n",
            "Epoch 32: saving model to BatikMotifMin_10_model_NASNetMobile_epoch_32.h5\n",
            "22/22 [==============================] - 90s 4s/step - loss: 0.1120 - accuracy: 0.9700 - val_loss: 0.5038 - val_accuracy: 0.8450\n",
            "Epoch 33/60\n",
            "22/22 [==============================] - ETA: 0s - loss: 0.1265 - accuracy: 0.9643\n",
            "Epoch 33: saving model to BatikMotifMin_10_model_NASNetMobile_epoch_33.h5\n",
            "22/22 [==============================] - 93s 4s/step - loss: 0.1265 - accuracy: 0.9643 - val_loss: 0.5069 - val_accuracy: 0.8400\n",
            "Epoch 34/60\n",
            "22/22 [==============================] - ETA: 0s - loss: 0.1276 - accuracy: 0.9686\n",
            "Epoch 34: saving model to BatikMotifMin_10_model_NASNetMobile_epoch_34.h5\n",
            "22/22 [==============================] - 93s 4s/step - loss: 0.1276 - accuracy: 0.9686 - val_loss: 0.5168 - val_accuracy: 0.8450\n",
            "Epoch 35/60\n",
            "22/22 [==============================] - ETA: 0s - loss: 0.1180 - accuracy: 0.9671\n",
            "Epoch 35: saving model to BatikMotifMin_10_model_NASNetMobile_epoch_35.h5\n",
            "22/22 [==============================] - 94s 4s/step - loss: 0.1180 - accuracy: 0.9671 - val_loss: 0.5228 - val_accuracy: 0.8400\n",
            "Epoch 36/60\n",
            "22/22 [==============================] - ETA: 0s - loss: 0.1210 - accuracy: 0.9671\n",
            "Epoch 36: saving model to BatikMotifMin_10_model_NASNetMobile_epoch_36.h5\n",
            "22/22 [==============================] - 97s 4s/step - loss: 0.1210 - accuracy: 0.9671 - val_loss: 0.5198 - val_accuracy: 0.8350\n",
            "Epoch 37/60\n",
            "22/22 [==============================] - ETA: 0s - loss: 0.1058 - accuracy: 0.9700\n",
            "Epoch 37: saving model to BatikMotifMin_10_model_NASNetMobile_epoch_37.h5\n",
            "22/22 [==============================] - 94s 4s/step - loss: 0.1058 - accuracy: 0.9700 - val_loss: 0.5138 - val_accuracy: 0.8350\n",
            "Epoch 38/60\n",
            "22/22 [==============================] - ETA: 0s - loss: 0.1314 - accuracy: 0.9686\n",
            "Epoch 38: saving model to BatikMotifMin_10_model_NASNetMobile_epoch_38.h5\n",
            "22/22 [==============================] - 90s 4s/step - loss: 0.1314 - accuracy: 0.9686 - val_loss: 0.5121 - val_accuracy: 0.8300\n",
            "Epoch 39/60\n",
            "22/22 [==============================] - ETA: 0s - loss: 0.1176 - accuracy: 0.9714\n",
            "Epoch 39: saving model to BatikMotifMin_10_model_NASNetMobile_epoch_39.h5\n",
            "22/22 [==============================] - 88s 4s/step - loss: 0.1176 - accuracy: 0.9714 - val_loss: 0.5096 - val_accuracy: 0.8400\n",
            "Epoch 40/60\n",
            "22/22 [==============================] - ETA: 0s - loss: 0.0999 - accuracy: 0.9786\n",
            "Epoch 40: saving model to BatikMotifMin_10_model_NASNetMobile_epoch_40.h5\n",
            "22/22 [==============================] - 90s 4s/step - loss: 0.0999 - accuracy: 0.9786 - val_loss: 0.5143 - val_accuracy: 0.8450\n",
            "Epoch 41/60\n",
            "22/22 [==============================] - ETA: 0s - loss: 0.1107 - accuracy: 0.9757\n",
            "Epoch 41: saving model to BatikMotifMin_10_model_NASNetMobile_epoch_41.h5\n",
            "22/22 [==============================] - 90s 4s/step - loss: 0.1107 - accuracy: 0.9757 - val_loss: 0.5159 - val_accuracy: 0.8400\n",
            "Epoch 42/60\n",
            "22/22 [==============================] - ETA: 0s - loss: 0.0973 - accuracy: 0.9729\n",
            "Epoch 42: saving model to BatikMotifMin_10_model_NASNetMobile_epoch_42.h5\n",
            "22/22 [==============================] - 87s 4s/step - loss: 0.0973 - accuracy: 0.9729 - val_loss: 0.5142 - val_accuracy: 0.8350\n",
            "Epoch 43/60\n",
            "22/22 [==============================] - ETA: 0s - loss: 0.1027 - accuracy: 0.9743\n",
            "Epoch 43: saving model to BatikMotifMin_10_model_NASNetMobile_epoch_43.h5\n",
            "22/22 [==============================] - 92s 4s/step - loss: 0.1027 - accuracy: 0.9743 - val_loss: 0.5192 - val_accuracy: 0.8400\n",
            "Epoch 44/60\n",
            "22/22 [==============================] - ETA: 0s - loss: 0.0933 - accuracy: 0.9729\n",
            "Epoch 44: saving model to BatikMotifMin_10_model_NASNetMobile_epoch_44.h5\n",
            "22/22 [==============================] - 93s 4s/step - loss: 0.0933 - accuracy: 0.9729 - val_loss: 0.5201 - val_accuracy: 0.8400\n",
            "Epoch 45/60\n",
            "22/22 [==============================] - ETA: 0s - loss: 0.0861 - accuracy: 0.9786\n",
            "Epoch 45: saving model to BatikMotifMin_10_model_NASNetMobile_epoch_45.h5\n",
            "22/22 [==============================] - 94s 4s/step - loss: 0.0861 - accuracy: 0.9786 - val_loss: 0.5266 - val_accuracy: 0.8500\n",
            "Epoch 46/60\n",
            "22/22 [==============================] - ETA: 0s - loss: 0.0698 - accuracy: 0.9900\n",
            "Epoch 46: saving model to BatikMotifMin_10_model_NASNetMobile_epoch_46.h5\n",
            "22/22 [==============================] - 94s 4s/step - loss: 0.0698 - accuracy: 0.9900 - val_loss: 0.5220 - val_accuracy: 0.8450\n",
            "Epoch 47/60\n",
            "22/22 [==============================] - ETA: 0s - loss: 0.0783 - accuracy: 0.9843\n",
            "Epoch 47: saving model to BatikMotifMin_10_model_NASNetMobile_epoch_47.h5\n",
            "22/22 [==============================] - 91s 4s/step - loss: 0.0783 - accuracy: 0.9843 - val_loss: 0.5147 - val_accuracy: 0.8500\n",
            "Epoch 48/60\n",
            "22/22 [==============================] - ETA: 0s - loss: 0.0783 - accuracy: 0.9714\n",
            "Epoch 48: saving model to BatikMotifMin_10_model_NASNetMobile_epoch_48.h5\n",
            "22/22 [==============================] - 87s 4s/step - loss: 0.0783 - accuracy: 0.9714 - val_loss: 0.5049 - val_accuracy: 0.8600\n",
            "Epoch 49/60\n",
            "22/22 [==============================] - ETA: 0s - loss: 0.0690 - accuracy: 0.9857\n",
            "Epoch 49: saving model to BatikMotifMin_10_model_NASNetMobile_epoch_49.h5\n",
            "22/22 [==============================] - 115s 5s/step - loss: 0.0690 - accuracy: 0.9857 - val_loss: 0.4939 - val_accuracy: 0.8650\n",
            "Epoch 50/60\n",
            "22/22 [==============================] - ETA: 0s - loss: 0.0677 - accuracy: 0.9857\n",
            "Epoch 50: saving model to BatikMotifMin_10_model_NASNetMobile_epoch_50.h5\n",
            "22/22 [==============================] - 89s 4s/step - loss: 0.0677 - accuracy: 0.9857 - val_loss: 0.4929 - val_accuracy: 0.8600\n",
            "Epoch 51/60\n",
            "22/22 [==============================] - ETA: 0s - loss: 0.0748 - accuracy: 0.9814\n",
            "Epoch 51: saving model to BatikMotifMin_10_model_NASNetMobile_epoch_51.h5\n",
            "22/22 [==============================] - 94s 4s/step - loss: 0.0748 - accuracy: 0.9814 - val_loss: 0.4961 - val_accuracy: 0.8550\n",
            "Epoch 52/60\n",
            "22/22 [==============================] - ETA: 0s - loss: 0.0681 - accuracy: 0.9843\n",
            "Epoch 52: saving model to BatikMotifMin_10_model_NASNetMobile_epoch_52.h5\n",
            "22/22 [==============================] - 93s 4s/step - loss: 0.0681 - accuracy: 0.9843 - val_loss: 0.4899 - val_accuracy: 0.8550\n",
            "Epoch 53/60\n",
            "22/22 [==============================] - ETA: 0s - loss: 0.0915 - accuracy: 0.9700\n",
            "Epoch 53: saving model to BatikMotifMin_10_model_NASNetMobile_epoch_53.h5\n",
            "22/22 [==============================] - 93s 4s/step - loss: 0.0915 - accuracy: 0.9700 - val_loss: 0.4894 - val_accuracy: 0.8600\n",
            "Epoch 54/60\n",
            "22/22 [==============================] - ETA: 0s - loss: 0.0615 - accuracy: 0.9871\n",
            "Epoch 54: saving model to BatikMotifMin_10_model_NASNetMobile_epoch_54.h5\n",
            "22/22 [==============================] - 93s 4s/step - loss: 0.0615 - accuracy: 0.9871 - val_loss: 0.4892 - val_accuracy: 0.8600\n",
            "Epoch 55/60\n",
            "22/22 [==============================] - ETA: 0s - loss: 0.0664 - accuracy: 0.9857\n",
            "Epoch 55: saving model to BatikMotifMin_10_model_NASNetMobile_epoch_55.h5\n",
            "22/22 [==============================] - 90s 4s/step - loss: 0.0664 - accuracy: 0.9857 - val_loss: 0.4902 - val_accuracy: 0.8600\n",
            "Epoch 56/60\n",
            "22/22 [==============================] - ETA: 0s - loss: 0.0719 - accuracy: 0.9843\n",
            "Epoch 56: saving model to BatikMotifMin_10_model_NASNetMobile_epoch_56.h5\n",
            "22/22 [==============================] - 88s 4s/step - loss: 0.0719 - accuracy: 0.9843 - val_loss: 0.4859 - val_accuracy: 0.8550\n",
            "Epoch 57/60\n",
            "22/22 [==============================] - ETA: 0s - loss: 0.0606 - accuracy: 0.9871\n",
            "Epoch 57: saving model to BatikMotifMin_10_model_NASNetMobile_epoch_57.h5\n",
            "22/22 [==============================] - 89s 4s/step - loss: 0.0606 - accuracy: 0.9871 - val_loss: 0.4878 - val_accuracy: 0.8450\n",
            "Epoch 58/60\n",
            "22/22 [==============================] - ETA: 0s - loss: 0.0684 - accuracy: 0.9800\n",
            "Epoch 58: saving model to BatikMotifMin_10_model_NASNetMobile_epoch_58.h5\n",
            "22/22 [==============================] - 89s 4s/step - loss: 0.0684 - accuracy: 0.9800 - val_loss: 0.4911 - val_accuracy: 0.8450\n",
            "Epoch 59/60\n",
            "22/22 [==============================] - ETA: 0s - loss: 0.0673 - accuracy: 0.9886\n",
            "Epoch 59: saving model to BatikMotifMin_10_model_NASNetMobile_epoch_59.h5\n",
            "22/22 [==============================] - 87s 4s/step - loss: 0.0673 - accuracy: 0.9886 - val_loss: 0.4942 - val_accuracy: 0.8550\n",
            "Epoch 60/60\n",
            "22/22 [==============================] - ETA: 0s - loss: 0.0604 - accuracy: 0.9886\n",
            "Epoch 60: saving model to BatikMotifMin_10_model_NASNetMobile_epoch_60.h5\n",
            "22/22 [==============================] - 89s 4s/step - loss: 0.0604 - accuracy: 0.9886 - val_loss: 0.4993 - val_accuracy: 0.8550\n"
          ]
        }
      ]
    },
    {
      "cell_type": "code",
      "source": [
        "def plot_metrics(history_NASNetMobile):\n",
        "\n",
        "    plt.figure(figsize=(12, 6))\n",
        "\n",
        "\n",
        "    plt.subplot(1, 2, 1)\n",
        "    plt.plot(history_NASNetMobile.history['accuracy'], label='Train Accuracy')\n",
        "    plt.plot(history_NASNetMobile.history['val_accuracy'], label='Validation Accuracy')\n",
        "    plt.title('Model Accuracy')\n",
        "    plt.xlabel('Epoch')\n",
        "    plt.ylabel('Accuracy')\n",
        "    plt.legend()\n",
        "\n",
        "    plt.subplot(1, 2, 2)\n",
        "    plt.plot(history_NASNetMobile.history['loss'], label='Train Loss')\n",
        "    plt.plot(history_NASNetMobile.history['val_loss'], label='Validation Loss')\n",
        "    plt.title('Model Loss')\n",
        "    plt.xlabel('Epoch')\n",
        "    plt.ylabel('Loss')\n",
        "    plt.legend()\n",
        "\n",
        "\n",
        "    plt.show()\n",
        "\n",
        "\n",
        "plot_metrics(history_NASNetMobile)"
      ],
      "metadata": {
        "colab": {
          "base_uri": "https://localhost:8080/",
          "height": 564
        },
        "outputId": "6a534371-339b-4fe9-97ca-6725df670aae",
        "id": "Ayh04Jgo39A3"
      },
      "execution_count": null,
      "outputs": [
        {
          "output_type": "display_data",
          "data": {
            "text/plain": [
              "<Figure size 1200x600 with 2 Axes>"
            ],
            "image/png": "[encoded data removed]"
          },
          "metadata": {}
        }
      ]
    },
    {
      "cell_type": "markdown",
      "source": [
        "## Classification Report NASNetMobile"
      ],
      "metadata": {
        "id": "lw_BQgvA39A3"
      }
    },
    {
      "cell_type": "code",
      "source": [
        "class_names = list(val_gen.class_indices.keys())\n",
        "\n",
        "y_test = []\n",
        "y_pred = []\n",
        "model_names = model_NASNetMobile\n",
        "for i in range(len(test_gen)):\n",
        "    x_batch, y_batch = test_gen.next()\n",
        "\n",
        "    for j in range(len(y_batch)):\n",
        "\n",
        "        y_test.append(class_names[tf.argmax(y_batch[j]).numpy()])\n",
        "\n",
        "        prediction = model_names.predict(x_batch[j][None, ...], verbose=0)\n",
        "        y_pred.append(class_names[np.argmax(prediction)])\n",
        "\n",
        "\n",
        "print(classification_report(y_test, y_pred, target_names=class_names))"
      ],
      "metadata": {
        "colab": {
          "base_uri": "https://localhost:8080/"
        },
        "outputId": "b45aabbc-4841-478e-eefe-242575eddb39",
        "id": "iHrfR85139A3"
      },
      "execution_count": null,
      "outputs": [
        {
          "output_type": "stream",
          "name": "stdout",
          "text": [
            "                   precision    recall  f1-score   support\n",
            "\n",
            "Batik Cendrawasih       0.86      0.57      0.69        21\n",
            "      Batik Dayak       0.62      0.75      0.68        20\n",
            " Batik Ikat Celup       0.67      0.75      0.71        16\n",
            "     Batik Insang       1.00      0.75      0.86        20\n",
            "     Batik Kawung       0.75      0.90      0.82        20\n",
            "Batik Megamendung       1.00      0.81      0.89        21\n",
            "     Batik Parang       1.00      0.90      0.95        21\n",
            "     Batik Poleng       0.80      1.00      0.89        24\n",
            "Batik Sekar Jagad       0.47      0.57      0.52        14\n",
            "     Batik Tambal       0.77      0.74      0.76        23\n",
            "\n",
            "         accuracy                           0.79       200\n",
            "        macro avg       0.79      0.77      0.78       200\n",
            "     weighted avg       0.81      0.79      0.79       200\n",
            "\n"
          ]
        }
      ]
    },
    {
      "cell_type": "markdown",
      "source": [
        "## Classification Report Best Model NASNetMobile"
      ],
      "metadata": {
        "id": "kt-KsLMp39A3"
      }
    },
    {
      "cell_type": "code",
      "source": [
        "model_NASNetMobile_BEST = load_model('/content/BatikMotifMin_10_model_NASNetMobile_epoch_49.h5')"
      ],
      "metadata": {
        "id": "EtdBiW0B39A3"
      },
      "execution_count": null,
      "outputs": []
    },
    {
      "cell_type": "code",
      "source": [
        "class_names = list(val_gen.class_indices.keys())\n",
        "\n",
        "y_test = []\n",
        "y_pred = []\n",
        "model_names = model_NASNetMobile_BEST\n",
        "for i in range(len(test_gen)):\n",
        "    x_batch, y_batch = test_gen.next()\n",
        "\n",
        "    for j in range(len(y_batch)):\n",
        "\n",
        "        y_test.append(class_names[tf.argmax(y_batch[j]).numpy()])\n",
        "\n",
        "        prediction = model_names.predict(x_batch[j][None, ...], verbose=0)\n",
        "        y_pred.append(class_names[np.argmax(prediction)])\n",
        "\n",
        "\n",
        "print(classification_report(y_test, y_pred, target_names=class_names))"
      ],
      "metadata": {
        "colab": {
          "base_uri": "https://localhost:8080/"
        },
        "outputId": "5c43b582-df1a-4559-cdfc-38989fcf8368",
        "id": "7O64mzfh39A3"
      },
      "execution_count": null,
      "outputs": [
        {
          "output_type": "stream",
          "name": "stdout",
          "text": [
            "                   precision    recall  f1-score   support\n",
            "\n",
            "Batik Cendrawasih       0.94      0.83      0.88        18\n",
            "      Batik Dayak       0.62      0.80      0.70        20\n",
            " Batik Ikat Celup       0.69      0.82      0.75        22\n",
            "     Batik Insang       1.00      0.67      0.80        21\n",
            "     Batik Kawung       0.77      0.94      0.85        18\n",
            "Batik Megamendung       1.00      0.83      0.91        18\n",
            "     Batik Parang       0.90      0.76      0.83        25\n",
            "     Batik Poleng       0.78      0.95      0.86        22\n",
            "Batik Sekar Jagad       0.67      0.56      0.61        18\n",
            "     Batik Tambal       0.72      0.72      0.72        18\n",
            "\n",
            "         accuracy                           0.79       200\n",
            "        macro avg       0.81      0.79      0.79       200\n",
            "     weighted avg       0.81      0.79      0.79       200\n",
            "\n"
          ]
        }
      ]
    },
    {
      "cell_type": "markdown",
      "source": [],
      "metadata": {
        "id": "CasMHCcocsDe"
      }
    },
    {
      "cell_type": "markdown",
      "source": [
        "# EfficientNetV2S model"
      ],
      "metadata": {
        "id": "S0Gy3hSoc0F4"
      }
    },
    {
      "cell_type": "code",
      "source": [
        "pre_train_EfficientNetV2S = EfficientNetV2S(\n",
        "    input_shape=(300, 300, 3),\n",
        "    include_top=False,\n",
        "    weights=\"imagenet\",\n",
        "    pooling='avg',\n",
        ")"
      ],
      "metadata": {
        "colab": {
          "base_uri": "https://localhost:8080/"
        },
        "outputId": "2fde6df2-46a7-44c6-de30-ea85ea2fe8f7",
        "id": "HbphXMkRc0F_"
      },
      "execution_count": null,
      "outputs": [
        {
          "output_type": "stream",
          "name": "stdout",
          "text": [
            "Downloading data from https://storage.googleapis.com/tensorflow/keras-applications/efficientnet_v2/efficientnetv2-s_notop.h5\n",
            "82420632/82420632 [==============================] - 3s 0us/step\n"
          ]
        }
      ]
    },
    {
      "cell_type": "code",
      "source": [
        "pre_train_EfficientNetV2S.trainable = False"
      ],
      "metadata": {
        "id": "xHdwodGyc0F_"
      },
      "execution_count": null,
      "outputs": []
    },
    {
      "cell_type": "code",
      "source": [
        "model_EfficientNetV2S = tf.keras.Sequential([\n",
        "    pre_train_EfficientNetV2S,\n",
        "    tf.keras.layers.Dense(512, activation='relu'),\n",
        "    tf.keras.layers.Dropout(0.4),\n",
        "    tf.keras.layers.Dense(10, activation='softmax')\n",
        "])\n"
      ],
      "metadata": {
        "id": "NnpZCpIYc0F_"
      },
      "execution_count": null,
      "outputs": []
    },
    {
      "cell_type": "code",
      "source": [
        "model_EfficientNetV2S.compile(optimizer=tf.keras.optimizers.Adam(learning_rate=0.0001),\n",
        "              loss='categorical_crossentropy',\n",
        "              metrics=['accuracy'])"
      ],
      "metadata": {
        "id": "zIwmvfWqc0F_"
      },
      "execution_count": null,
      "outputs": []
    },
    {
      "cell_type": "code",
      "source": [
        "epoch = 60\n",
        "verb = 1\n",
        "\n",
        "history_EfficientNetV2S = model_EfficientNetV2S.fit(\n",
        "            train_gen,\n",
        "            validation_data = val_gen,\n",
        "            epochs = epoch,\n",
        "            verbose = verb,\n",
        "            callbacks=[checkpoint_callback])"
      ],
      "metadata": {
        "colab": {
          "base_uri": "https://localhost:8080/"
        },
        "outputId": "8d4f8e4c-f6c6-491b-b558-11fb46083102",
        "id": "bqq2VHJbc0F_"
      },
      "execution_count": null,
      "outputs": [
        {
          "output_type": "stream",
          "name": "stdout",
          "text": [
            "Epoch 1/60\n",
            "22/22 [==============================] - ETA: 0s - loss: 2.2834 - accuracy: 0.1457 \n",
            "Epoch 1: saving model to BatikMotifMin_10_model_EfficientNetV2S_epoch_01.h5\n"
          ]
        },
        {
          "output_type": "stream",
          "name": "stderr",
          "text": [
            "/usr/local/lib/python3.10/dist-packages/keras/src/engine/training.py:3103: UserWarning: You are saving your model as an HDF5 file via `model.save()`. This file format is considered legacy. We recommend using instead the native Keras format, e.g. `model.save('my_model.keras')`.\n",
            "  saving_api.save_model(\n"
          ]
        },
        {
          "output_type": "stream",
          "name": "stdout",
          "text": [
            "\b\b\b\b\b\b\b\b\b\b\b\b\b\b\b\b\b\b\b\b\b\b\b\b\b\b\b\b\b\b\b\b\b\b\b\b\b\b\b\b\b\b\b\b\b\b\b\b\b\b\b\b\b\b\b\b\b\b\b\b\b\b\b\b\b\b\b\b\b\b\b\b\b\b\b\b\b\b\b\b\b\b\r22/22 [==============================] - 363s 16s/step - loss: 2.2834 - accuracy: 0.1457 - val_loss: 2.2186 - val_accuracy: 0.2450\n",
            "Epoch 2/60\n",
            "22/22 [==============================] - ETA: 0s - loss: 2.2152 - accuracy: 0.2086 \n",
            "Epoch 2: saving model to BatikMotifMin_10_model_EfficientNetV2S_epoch_02.h5\n",
            "22/22 [==============================] - 329s 15s/step - loss: 2.2152 - accuracy: 0.2086 - val_loss: 2.1639 - val_accuracy: 0.2150\n",
            "Epoch 3/60\n",
            "22/22 [==============================] - ETA: 0s - loss: 2.1853 - accuracy: 0.2429 \n",
            "Epoch 3: saving model to BatikMotifMin_10_model_EfficientNetV2S_epoch_03.h5\n",
            "22/22 [==============================] - 345s 16s/step - loss: 2.1853 - accuracy: 0.2429 - val_loss: 2.1155 - val_accuracy: 0.2650\n",
            "Epoch 4/60\n",
            "22/22 [==============================] - ETA: 0s - loss: 2.1570 - accuracy: 0.2229 \n",
            "Epoch 4: saving model to BatikMotifMin_10_model_EfficientNetV2S_epoch_04.h5\n",
            "22/22 [==============================] - 364s 17s/step - loss: 2.1570 - accuracy: 0.2229 - val_loss: 2.0816 - val_accuracy: 0.2350\n",
            "Epoch 5/60\n",
            "22/22 [==============================] - ETA: 0s - loss: 2.1155 - accuracy: 0.2729 \n",
            "Epoch 5: saving model to BatikMotifMin_10_model_EfficientNetV2S_epoch_05.h5\n",
            "22/22 [==============================] - 337s 15s/step - loss: 2.1155 - accuracy: 0.2729 - val_loss: 2.0540 - val_accuracy: 0.2550\n",
            "Epoch 6/60\n",
            "22/22 [==============================] - ETA: 0s - loss: 2.1116 - accuracy: 0.2614 \n",
            "Epoch 6: saving model to BatikMotifMin_10_model_EfficientNetV2S_epoch_06.h5\n",
            "22/22 [==============================] - 343s 16s/step - loss: 2.1116 - accuracy: 0.2614 - val_loss: 2.0318 - val_accuracy: 0.2850\n",
            "Epoch 7/60\n",
            "22/22 [==============================] - ETA: 0s - loss: 2.0642 - accuracy: 0.2700 \n",
            "Epoch 7: saving model to BatikMotifMin_10_model_EfficientNetV2S_epoch_07.h5\n",
            "22/22 [==============================] - 343s 16s/step - loss: 2.0642 - accuracy: 0.2700 - val_loss: 2.0145 - val_accuracy: 0.2450\n",
            "Epoch 8/60\n",
            "22/22 [==============================] - ETA: 0s - loss: 2.0589 - accuracy: 0.2457 \n",
            "Epoch 8: saving model to BatikMotifMin_10_model_EfficientNetV2S_epoch_08.h5\n",
            "22/22 [==============================] - 345s 16s/step - loss: 2.0589 - accuracy: 0.2457 - val_loss: 1.9891 - val_accuracy: 0.3100\n",
            "Epoch 9/60\n",
            "22/22 [==============================] - ETA: 0s - loss: 2.0397 - accuracy: 0.2800 \n",
            "Epoch 9: saving model to BatikMotifMin_10_model_EfficientNetV2S_epoch_09.h5\n",
            "22/22 [==============================] - 331s 15s/step - loss: 2.0397 - accuracy: 0.2800 - val_loss: 1.9700 - val_accuracy: 0.3000\n",
            "Epoch 10/60\n",
            "21/22 [===========================>..] - ETA: 11s - loss: 2.0171 - accuracy: 0.2919\n",
            "Epoch 10: saving model to BatikMotifMin_10_model_EfficientNetV2S_epoch_10.h5\n",
            "22/22 [==============================] - 333s 15s/step - loss: 2.0135 - accuracy: 0.2886 - val_loss: 1.9547 - val_accuracy: 0.3150\n",
            "Epoch 11/60\n",
            "22/22 [==============================] - ETA: 0s - loss: 2.0029 - accuracy: 0.3343 \n",
            "Epoch 11: saving model to BatikMotifMin_10_model_EfficientNetV2S_epoch_11.h5\n",
            "22/22 [==============================] - 344s 16s/step - loss: 2.0029 - accuracy: 0.3343 - val_loss: 1.9376 - val_accuracy: 0.3200\n",
            "Epoch 12/60\n",
            "22/22 [==============================] - ETA: 0s - loss: 1.9715 - accuracy: 0.2857 \n",
            "Epoch 12: saving model to BatikMotifMin_10_model_EfficientNetV2S_epoch_12.h5\n",
            "22/22 [==============================] - 332s 15s/step - loss: 1.9715 - accuracy: 0.2857 - val_loss: 1.9289 - val_accuracy: 0.3300\n",
            "Epoch 13/60\n",
            "22/22 [==============================] - ETA: 0s - loss: 1.9780 - accuracy: 0.3143 \n",
            "Epoch 13: saving model to BatikMotifMin_10_model_EfficientNetV2S_epoch_13.h5\n",
            "22/22 [==============================] - 347s 16s/step - loss: 1.9780 - accuracy: 0.3143 - val_loss: 1.9167 - val_accuracy: 0.3300\n",
            "Epoch 14/60\n",
            "22/22 [==============================] - ETA: 0s - loss: 1.9728 - accuracy: 0.2986 \n",
            "Epoch 14: saving model to BatikMotifMin_10_model_EfficientNetV2S_epoch_14.h5\n",
            "22/22 [==============================] - 331s 15s/step - loss: 1.9728 - accuracy: 0.2986 - val_loss: 1.9111 - val_accuracy: 0.3200\n",
            "Epoch 15/60\n",
            "22/22 [==============================] - ETA: 0s - loss: 1.9916 - accuracy: 0.3129 \n",
            "Epoch 15: saving model to BatikMotifMin_10_model_EfficientNetV2S_epoch_15.h5\n",
            "22/22 [==============================] - 350s 16s/step - loss: 1.9916 - accuracy: 0.3129 - val_loss: 1.9052 - val_accuracy: 0.3250\n",
            "Epoch 16/60\n",
            "22/22 [==============================] - ETA: 0s - loss: 1.9429 - accuracy: 0.3329 \n",
            "Epoch 16: saving model to BatikMotifMin_10_model_EfficientNetV2S_epoch_16.h5\n",
            "22/22 [==============================] - 345s 16s/step - loss: 1.9429 - accuracy: 0.3329 - val_loss: 1.9024 - val_accuracy: 0.3250\n",
            "Epoch 17/60\n",
            "22/22 [==============================] - ETA: 0s - loss: 1.9517 - accuracy: 0.3357 \n",
            "Epoch 17: saving model to BatikMotifMin_10_model_EfficientNetV2S_epoch_17.h5\n",
            "22/22 [==============================] - 330s 15s/step - loss: 1.9517 - accuracy: 0.3357 - val_loss: 1.8962 - val_accuracy: 0.3300\n",
            "Epoch 18/60\n",
            "22/22 [==============================] - ETA: 0s - loss: 1.9365 - accuracy: 0.3229 \n",
            "Epoch 18: saving model to BatikMotifMin_10_model_EfficientNetV2S_epoch_18.h5\n",
            "22/22 [==============================] - 341s 16s/step - loss: 1.9365 - accuracy: 0.3229 - val_loss: 1.8970 - val_accuracy: 0.3400\n",
            "Epoch 19/60\n",
            "22/22 [==============================] - ETA: 0s - loss: 1.9328 - accuracy: 0.3200 \n",
            "Epoch 19: saving model to BatikMotifMin_10_model_EfficientNetV2S_epoch_19.h5\n",
            "22/22 [==============================] - 342s 16s/step - loss: 1.9328 - accuracy: 0.3200 - val_loss: 1.8869 - val_accuracy: 0.3400\n",
            "Epoch 20/60\n",
            "22/22 [==============================] - ETA: 0s - loss: 1.9116 - accuracy: 0.3300 \n",
            "Epoch 20: saving model to BatikMotifMin_10_model_EfficientNetV2S_epoch_20.h5\n",
            "22/22 [==============================] - 332s 15s/step - loss: 1.9116 - accuracy: 0.3300 - val_loss: 1.8839 - val_accuracy: 0.3250\n",
            "Epoch 21/60\n",
            "22/22 [==============================] - ETA: 0s - loss: 1.9176 - accuracy: 0.3314 \n",
            "Epoch 21: saving model to BatikMotifMin_10_model_EfficientNetV2S_epoch_21.h5\n",
            "22/22 [==============================] - 335s 15s/step - loss: 1.9176 - accuracy: 0.3314 - val_loss: 1.8741 - val_accuracy: 0.3400\n",
            "Epoch 22/60\n",
            "22/22 [==============================] - ETA: 0s - loss: 1.9310 - accuracy: 0.3186 \n",
            "Epoch 22: saving model to BatikMotifMin_10_model_EfficientNetV2S_epoch_22.h5\n",
            "22/22 [==============================] - 343s 16s/step - loss: 1.9310 - accuracy: 0.3186 - val_loss: 1.8780 - val_accuracy: 0.3400\n",
            "Epoch 23/60\n",
            "22/22 [==============================] - ETA: 0s - loss: 1.9075 - accuracy: 0.3157 \n",
            "Epoch 23: saving model to BatikMotifMin_10_model_EfficientNetV2S_epoch_23.h5\n",
            "22/22 [==============================] - 342s 16s/step - loss: 1.9075 - accuracy: 0.3157 - val_loss: 1.8607 - val_accuracy: 0.3400\n",
            "Epoch 24/60\n",
            "22/22 [==============================] - ETA: 0s - loss: 1.9082 - accuracy: 0.3100 \n",
            "Epoch 24: saving model to BatikMotifMin_10_model_EfficientNetV2S_epoch_24.h5\n",
            "22/22 [==============================] - 333s 15s/step - loss: 1.9082 - accuracy: 0.3100 - val_loss: 1.8526 - val_accuracy: 0.3350\n",
            "Epoch 25/60\n",
            "22/22 [==============================] - ETA: 0s - loss: 1.8930 - accuracy: 0.3143 \n",
            "Epoch 25: saving model to BatikMotifMin_10_model_EfficientNetV2S_epoch_25.h5\n",
            "22/22 [==============================] - 346s 16s/step - loss: 1.8930 - accuracy: 0.3143 - val_loss: 1.8632 - val_accuracy: 0.3450\n",
            "Epoch 26/60\n",
            "22/22 [==============================] - ETA: 0s - loss: 1.9056 - accuracy: 0.3329 \n",
            "Epoch 26: saving model to BatikMotifMin_10_model_EfficientNetV2S_epoch_26.h5\n",
            "22/22 [==============================] - 335s 15s/step - loss: 1.9056 - accuracy: 0.3329 - val_loss: 1.8530 - val_accuracy: 0.3450\n",
            "Epoch 27/60\n",
            "22/22 [==============================] - ETA: 0s - loss: 1.8646 - accuracy: 0.3414 \n",
            "Epoch 27: saving model to BatikMotifMin_10_model_EfficientNetV2S_epoch_27.h5\n",
            "22/22 [==============================] - 340s 15s/step - loss: 1.8646 - accuracy: 0.3414 - val_loss: 1.8565 - val_accuracy: 0.3400\n",
            "Epoch 28/60\n",
            "22/22 [==============================] - ETA: 0s - loss: 1.8866 - accuracy: 0.3386 \n",
            "Epoch 28: saving model to BatikMotifMin_10_model_EfficientNetV2S_epoch_28.h5\n",
            "22/22 [==============================] - 339s 15s/step - loss: 1.8866 - accuracy: 0.3386 - val_loss: 1.8570 - val_accuracy: 0.3550\n",
            "Epoch 29/60\n",
            "22/22 [==============================] - ETA: 0s - loss: 1.8465 - accuracy: 0.3586 \n",
            "Epoch 29: saving model to BatikMotifMin_10_model_EfficientNetV2S_epoch_29.h5\n",
            "22/22 [==============================] - 339s 15s/step - loss: 1.8465 - accuracy: 0.3586 - val_loss: 1.8325 - val_accuracy: 0.3550\n",
            "Epoch 30/60\n",
            "22/22 [==============================] - ETA: 0s - loss: 1.8639 - accuracy: 0.3557 \n",
            "Epoch 30: saving model to BatikMotifMin_10_model_EfficientNetV2S_epoch_30.h5\n",
            "22/22 [==============================] - 341s 16s/step - loss: 1.8639 - accuracy: 0.3557 - val_loss: 1.8322 - val_accuracy: 0.3550\n",
            "Epoch 31/60\n",
            "22/22 [==============================] - ETA: 0s - loss: 1.8515 - accuracy: 0.3614 \n",
            "Epoch 31: saving model to BatikMotifMin_10_model_EfficientNetV2S_epoch_31.h5\n",
            "22/22 [==============================] - 336s 15s/step - loss: 1.8515 - accuracy: 0.3614 - val_loss: 1.8351 - val_accuracy: 0.3550\n",
            "Epoch 32/60\n",
            "22/22 [==============================] - ETA: 0s - loss: 1.8776 - accuracy: 0.3314 \n",
            "Epoch 32: saving model to BatikMotifMin_10_model_EfficientNetV2S_epoch_32.h5\n",
            "22/22 [==============================] - 348s 16s/step - loss: 1.8776 - accuracy: 0.3314 - val_loss: 1.8353 - val_accuracy: 0.3700\n",
            "Epoch 33/60\n",
            "22/22 [==============================] - ETA: 0s - loss: 1.8469 - accuracy: 0.3514 \n",
            "Epoch 33: saving model to BatikMotifMin_10_model_EfficientNetV2S_epoch_33.h5\n",
            "22/22 [==============================] - 354s 16s/step - loss: 1.8469 - accuracy: 0.3514 - val_loss: 1.8332 - val_accuracy: 0.3500\n",
            "Epoch 34/60\n",
            "22/22 [==============================] - ETA: 0s - loss: 1.8550 - accuracy: 0.3343 \n",
            "Epoch 34: saving model to BatikMotifMin_10_model_EfficientNetV2S_epoch_34.h5\n",
            "22/22 [==============================] - 336s 15s/step - loss: 1.8550 - accuracy: 0.3343 - val_loss: 1.8214 - val_accuracy: 0.3650\n",
            "Epoch 35/60\n",
            "22/22 [==============================] - ETA: 0s - loss: 1.8531 - accuracy: 0.3643 \n",
            "Epoch 35: saving model to BatikMotifMin_10_model_EfficientNetV2S_epoch_35.h5\n",
            "22/22 [==============================] - 359s 16s/step - loss: 1.8531 - accuracy: 0.3643 - val_loss: 1.8222 - val_accuracy: 0.3350\n",
            "Epoch 36/60\n",
            "22/22 [==============================] - ETA: 0s - loss: 1.8323 - accuracy: 0.3543 \n",
            "Epoch 36: saving model to BatikMotifMin_10_model_EfficientNetV2S_epoch_36.h5\n",
            "22/22 [==============================] - 347s 16s/step - loss: 1.8323 - accuracy: 0.3543 - val_loss: 1.8197 - val_accuracy: 0.3600\n",
            "Epoch 37/60\n",
            "22/22 [==============================] - ETA: 0s - loss: 1.8114 - accuracy: 0.3914 \n",
            "Epoch 37: saving model to BatikMotifMin_10_model_EfficientNetV2S_epoch_37.h5\n",
            "22/22 [==============================] - 352s 16s/step - loss: 1.8114 - accuracy: 0.3914 - val_loss: 1.8114 - val_accuracy: 0.3500\n",
            "Epoch 38/60\n",
            "22/22 [==============================] - ETA: 0s - loss: 1.8180 - accuracy: 0.3629 \n",
            "Epoch 38: saving model to BatikMotifMin_10_model_EfficientNetV2S_epoch_38.h5\n",
            "22/22 [==============================] - 332s 15s/step - loss: 1.8180 - accuracy: 0.3629 - val_loss: 1.8173 - val_accuracy: 0.3700\n",
            "Epoch 39/60\n",
            "22/22 [==============================] - ETA: 0s - loss: 1.8343 - accuracy: 0.3671 \n",
            "Epoch 39: saving model to BatikMotifMin_10_model_EfficientNetV2S_epoch_39.h5\n",
            "22/22 [==============================] - 351s 16s/step - loss: 1.8343 - accuracy: 0.3671 - val_loss: 1.8052 - val_accuracy: 0.3600\n",
            "Epoch 40/60\n",
            "22/22 [==============================] - ETA: 0s - loss: 1.8159 - accuracy: 0.3643 \n",
            "Epoch 40: saving model to BatikMotifMin_10_model_EfficientNetV2S_epoch_40.h5\n",
            "22/22 [==============================] - 332s 15s/step - loss: 1.8159 - accuracy: 0.3643 - val_loss: 1.7957 - val_accuracy: 0.3750\n",
            "Epoch 41/60\n",
            "22/22 [==============================] - ETA: 0s - loss: 1.8337 - accuracy: 0.3714 \n",
            "Epoch 41: saving model to BatikMotifMin_10_model_EfficientNetV2S_epoch_41.h5\n",
            "22/22 [==============================] - 340s 16s/step - loss: 1.8337 - accuracy: 0.3714 - val_loss: 1.7969 - val_accuracy: 0.3600\n",
            "Epoch 42/60\n",
            "22/22 [==============================] - ETA: 0s - loss: 1.8063 - accuracy: 0.3800 \n",
            "Epoch 42: saving model to BatikMotifMin_10_model_EfficientNetV2S_epoch_42.h5\n",
            "22/22 [==============================] - 333s 15s/step - loss: 1.8063 - accuracy: 0.3800 - val_loss: 1.8007 - val_accuracy: 0.3850\n",
            "Epoch 43/60\n",
            "22/22 [==============================] - ETA: 0s - loss: 1.8389 - accuracy: 0.3529 \n",
            "Epoch 43: saving model to BatikMotifMin_10_model_EfficientNetV2S_epoch_43.h5\n",
            "22/22 [==============================] - 333s 15s/step - loss: 1.8389 - accuracy: 0.3529 - val_loss: 1.7920 - val_accuracy: 0.3650\n",
            "Epoch 44/60\n",
            "22/22 [==============================] - ETA: 0s - loss: 1.8300 - accuracy: 0.3571 \n",
            "Epoch 44: saving model to BatikMotifMin_10_model_EfficientNetV2S_epoch_44.h5\n",
            "22/22 [==============================] - 333s 15s/step - loss: 1.8300 - accuracy: 0.3571 - val_loss: 1.8048 - val_accuracy: 0.3800\n",
            "Epoch 45/60\n",
            "22/22 [==============================] - ETA: 0s - loss: 1.7842 - accuracy: 0.3900 \n",
            "Epoch 45: saving model to BatikMotifMin_10_model_EfficientNetV2S_epoch_45.h5\n",
            "22/22 [==============================] - 332s 15s/step - loss: 1.7842 - accuracy: 0.3900 - val_loss: 1.7807 - val_accuracy: 0.3900\n",
            "Epoch 46/60\n",
            "22/22 [==============================] - ETA: 0s - loss: 1.8053 - accuracy: 0.3714 \n",
            "Epoch 46: saving model to BatikMotifMin_10_model_EfficientNetV2S_epoch_46.h5\n",
            "22/22 [==============================] - 336s 15s/step - loss: 1.8053 - accuracy: 0.3714 - val_loss: 1.7985 - val_accuracy: 0.3800\n",
            "Epoch 47/60\n",
            "22/22 [==============================] - ETA: 0s - loss: 1.8182 - accuracy: 0.3671 \n",
            "Epoch 47: saving model to BatikMotifMin_10_model_EfficientNetV2S_epoch_47.h5\n",
            "22/22 [==============================] - 342s 16s/step - loss: 1.8182 - accuracy: 0.3671 - val_loss: 1.7912 - val_accuracy: 0.3800\n",
            "Epoch 48/60\n",
            "22/22 [==============================] - ETA: 0s - loss: 1.7905 - accuracy: 0.3843 \n",
            "Epoch 48: saving model to BatikMotifMin_10_model_EfficientNetV2S_epoch_48.h5\n",
            "22/22 [==============================] - 334s 15s/step - loss: 1.7905 - accuracy: 0.3843 - val_loss: 1.7880 - val_accuracy: 0.3850\n",
            "Epoch 49/60\n",
            "22/22 [==============================] - ETA: 0s - loss: 1.7873 - accuracy: 0.3829 \n",
            "Epoch 49: saving model to BatikMotifMin_10_model_EfficientNetV2S_epoch_49.h5\n",
            "22/22 [==============================] - 341s 16s/step - loss: 1.7873 - accuracy: 0.3829 - val_loss: 1.7896 - val_accuracy: 0.3700\n",
            "Epoch 50/60\n",
            "22/22 [==============================] - ETA: 0s - loss: 1.7683 - accuracy: 0.3786 \n",
            "Epoch 50: saving model to BatikMotifMin_10_model_EfficientNetV2S_epoch_50.h5\n",
            "22/22 [==============================] - 336s 15s/step - loss: 1.7683 - accuracy: 0.3786 - val_loss: 1.7894 - val_accuracy: 0.3550\n",
            "Epoch 51/60\n",
            "22/22 [==============================] - ETA: 0s - loss: 1.7485 - accuracy: 0.4057 \n",
            "Epoch 51: saving model to BatikMotifMin_10_model_EfficientNetV2S_epoch_51.h5\n",
            "22/22 [==============================] - 348s 16s/step - loss: 1.7485 - accuracy: 0.4057 - val_loss: 1.7786 - val_accuracy: 0.3800\n",
            "Epoch 52/60\n",
            "22/22 [==============================] - ETA: 0s - loss: 1.7664 - accuracy: 0.3929 \n",
            "Epoch 52: saving model to BatikMotifMin_10_model_EfficientNetV2S_epoch_52.h5\n",
            "22/22 [==============================] - 337s 15s/step - loss: 1.7664 - accuracy: 0.3929 - val_loss: 1.7882 - val_accuracy: 0.3750\n",
            "Epoch 53/60\n",
            "22/22 [==============================] - ETA: 0s - loss: 1.7909 - accuracy: 0.3557 \n",
            "Epoch 53: saving model to BatikMotifMin_10_model_EfficientNetV2S_epoch_53.h5\n",
            "22/22 [==============================] - 334s 15s/step - loss: 1.7909 - accuracy: 0.3557 - val_loss: 1.7797 - val_accuracy: 0.3800\n",
            "Epoch 54/60\n",
            "22/22 [==============================] - ETA: 0s - loss: 1.7628 - accuracy: 0.4014 \n",
            "Epoch 54: saving model to BatikMotifMin_10_model_EfficientNetV2S_epoch_54.h5\n",
            "22/22 [==============================] - 330s 15s/step - loss: 1.7628 - accuracy: 0.4014 - val_loss: 1.7879 - val_accuracy: 0.3900\n",
            "Epoch 55/60\n",
            "22/22 [==============================] - ETA: 0s - loss: 1.7921 - accuracy: 0.3814 \n",
            "Epoch 55: saving model to BatikMotifMin_10_model_EfficientNetV2S_epoch_55.h5\n",
            "22/22 [==============================] - 359s 16s/step - loss: 1.7921 - accuracy: 0.3814 - val_loss: 1.7711 - val_accuracy: 0.4050\n",
            "Epoch 56/60\n",
            "22/22 [==============================] - ETA: 0s - loss: 1.7603 - accuracy: 0.3986 \n",
            "Epoch 56: saving model to BatikMotifMin_10_model_EfficientNetV2S_epoch_56.h5\n",
            "22/22 [==============================] - 333s 15s/step - loss: 1.7603 - accuracy: 0.3986 - val_loss: 1.7755 - val_accuracy: 0.3850\n",
            "Epoch 57/60\n",
            "22/22 [==============================] - ETA: 0s - loss: 1.7605 - accuracy: 0.4071 \n",
            "Epoch 57: saving model to BatikMotifMin_10_model_EfficientNetV2S_epoch_57.h5\n",
            "22/22 [==============================] - 338s 15s/step - loss: 1.7605 - accuracy: 0.4071 - val_loss: 1.7666 - val_accuracy: 0.3750\n",
            "Epoch 58/60\n",
            "22/22 [==============================] - ETA: 0s - loss: 1.7645 - accuracy: 0.3800 \n",
            "Epoch 58: saving model to BatikMotifMin_10_model_EfficientNetV2S_epoch_58.h5\n",
            "22/22 [==============================] - 335s 15s/step - loss: 1.7645 - accuracy: 0.3800 - val_loss: 1.7614 - val_accuracy: 0.4050\n",
            "Epoch 59/60\n",
            "22/22 [==============================] - ETA: 0s - loss: 1.7724 - accuracy: 0.3671 \n",
            "Epoch 59: saving model to BatikMotifMin_10_model_EfficientNetV2S_epoch_59.h5\n",
            "22/22 [==============================] - 350s 16s/step - loss: 1.7724 - accuracy: 0.3671 - val_loss: 1.7672 - val_accuracy: 0.4100\n",
            "Epoch 60/60\n",
            "22/22 [==============================] - ETA: 0s - loss: 1.7666 - accuracy: 0.3943 \n",
            "Epoch 60: saving model to BatikMotifMin_10_model_EfficientNetV2S_epoch_60.h5\n",
            "22/22 [==============================] - 351s 16s/step - loss: 1.7666 - accuracy: 0.3943 - val_loss: 1.7753 - val_accuracy: 0.3750\n"
          ]
        }
      ]
    },
    {
      "cell_type": "code",
      "source": [
        "def plot_metrics(history_NASNetMobile):\n",
        "\n",
        "    plt.figure(figsize=(12, 6))\n",
        "\n",
        "\n",
        "    plt.subplot(1, 2, 1)\n",
        "    plt.plot(history_NASNetMobile.history['accuracy'], label='Train Accuracy')\n",
        "    plt.plot(history_NASNetMobile.history['val_accuracy'], label='Validation Accuracy')\n",
        "    plt.title('Model Accuracy')\n",
        "    plt.xlabel('Epoch')\n",
        "    plt.ylabel('Accuracy')\n",
        "    plt.legend()\n",
        "\n",
        "    plt.subplot(1, 2, 2)\n",
        "    plt.plot(history_NASNetMobile.history['loss'], label='Train Loss')\n",
        "    plt.plot(history_NASNetMobile.history['val_loss'], label='Validation Loss')\n",
        "    plt.title('Model Loss')\n",
        "    plt.xlabel('Epoch')\n",
        "    plt.ylabel('Loss')\n",
        "    plt.legend()\n",
        "\n",
        "\n",
        "    plt.show()\n",
        "\n",
        "\n",
        "plot_metrics(history_NASNetMobile)"
      ],
      "metadata": {
        "colab": {
          "base_uri": "https://localhost:8080/",
          "height": 564
        },
        "outputId": "6a534371-339b-4fe9-97ca-6725df670aae",
        "id": "QfyWqwMvc0GA"
      },
      "execution_count": null,
      "outputs": [
        {
          "output_type": "display_data",
          "data": {
            "text/plain": [
              "<Figure size 1200x600 with 2 Axes>"
            ],
            "image/png": "[encoded data removed]"
          },
          "metadata": {}
        }
      ]
    },
    {
      "cell_type": "markdown",
      "source": [
        "## Classification Report NASNetMobile"
      ],
      "metadata": {
        "id": "veYDK6sQc0GA"
      }
    },
    {
      "cell_type": "code",
      "source": [
        "class_names = list(val_gen.class_indices.keys())\n",
        "\n",
        "y_test = []\n",
        "y_pred = []\n",
        "model_names = model_NASNetMobile\n",
        "for i in range(len(test_gen)):\n",
        "    x_batch, y_batch = test_gen.next()\n",
        "\n",
        "    for j in range(len(y_batch)):\n",
        "\n",
        "        y_test.append(class_names[tf.argmax(y_batch[j]).numpy()])\n",
        "\n",
        "        prediction = model_names.predict(x_batch[j][None, ...], verbose=0)\n",
        "        y_pred.append(class_names[np.argmax(prediction)])\n",
        "\n",
        "\n",
        "print(classification_report(y_test, y_pred, target_names=class_names))"
      ],
      "metadata": {
        "colab": {
          "base_uri": "https://localhost:8080/"
        },
        "outputId": "b45aabbc-4841-478e-eefe-242575eddb39",
        "id": "DLyKA3hZc0GA"
      },
      "execution_count": null,
      "outputs": [
        {
          "output_type": "stream",
          "name": "stdout",
          "text": [
            "                   precision    recall  f1-score   support\n",
            "\n",
            "Batik Cendrawasih       0.86      0.57      0.69        21\n",
            "      Batik Dayak       0.62      0.75      0.68        20\n",
            " Batik Ikat Celup       0.67      0.75      0.71        16\n",
            "     Batik Insang       1.00      0.75      0.86        20\n",
            "     Batik Kawung       0.75      0.90      0.82        20\n",
            "Batik Megamendung       1.00      0.81      0.89        21\n",
            "     Batik Parang       1.00      0.90      0.95        21\n",
            "     Batik Poleng       0.80      1.00      0.89        24\n",
            "Batik Sekar Jagad       0.47      0.57      0.52        14\n",
            "     Batik Tambal       0.77      0.74      0.76        23\n",
            "\n",
            "         accuracy                           0.79       200\n",
            "        macro avg       0.79      0.77      0.78       200\n",
            "     weighted avg       0.81      0.79      0.79       200\n",
            "\n"
          ]
        }
      ]
    },
    {
      "cell_type": "markdown",
      "source": [
        "## Classification Report Best Model NASNetMobile"
      ],
      "metadata": {
        "id": "q9Rn5eucc0GA"
      }
    },
    {
      "cell_type": "code",
      "source": [
        "model_NASNetMobile_BEST = load_model('/content/BatikMotifMin_10_model_NASNetMobile_epoch_49.h5')"
      ],
      "metadata": {
        "id": "73sI6sgUc0GA"
      },
      "execution_count": null,
      "outputs": []
    },
    {
      "cell_type": "code",
      "source": [
        "class_names = list(val_gen.class_indices.keys())\n",
        "\n",
        "y_test = []\n",
        "y_pred = []\n",
        "model_names = model_NASNetMobile_BEST\n",
        "for i in range(len(test_gen)):\n",
        "    x_batch, y_batch = test_gen.next()\n",
        "\n",
        "    for j in range(len(y_batch)):\n",
        "\n",
        "        y_test.append(class_names[tf.argmax(y_batch[j]).numpy()])\n",
        "\n",
        "        prediction = model_names.predict(x_batch[j][None, ...], verbose=0)\n",
        "        y_pred.append(class_names[np.argmax(prediction)])\n",
        "\n",
        "\n",
        "print(classification_report(y_test, y_pred, target_names=class_names))"
      ],
      "metadata": {
        "colab": {
          "base_uri": "https://localhost:8080/"
        },
        "outputId": "5c43b582-df1a-4559-cdfc-38989fcf8368",
        "id": "iofUm-F3c0GA"
      },
      "execution_count": null,
      "outputs": [
        {
          "output_type": "stream",
          "name": "stdout",
          "text": [
            "                   precision    recall  f1-score   support\n",
            "\n",
            "Batik Cendrawasih       0.94      0.83      0.88        18\n",
            "      Batik Dayak       0.62      0.80      0.70        20\n",
            " Batik Ikat Celup       0.69      0.82      0.75        22\n",
            "     Batik Insang       1.00      0.67      0.80        21\n",
            "     Batik Kawung       0.77      0.94      0.85        18\n",
            "Batik Megamendung       1.00      0.83      0.91        18\n",
            "     Batik Parang       0.90      0.76      0.83        25\n",
            "     Batik Poleng       0.78      0.95      0.86        22\n",
            "Batik Sekar Jagad       0.67      0.56      0.61        18\n",
            "     Batik Tambal       0.72      0.72      0.72        18\n",
            "\n",
            "         accuracy                           0.79       200\n",
            "        macro avg       0.81      0.79      0.79       200\n",
            "     weighted avg       0.81      0.79      0.79       200\n",
            "\n"
          ]
        }
      ]
    },
    {
      "cell_type": "markdown",
      "source": [],
      "metadata": {
        "id": "lWhpO8SBc0GA"
      }
    }
  ]
}
